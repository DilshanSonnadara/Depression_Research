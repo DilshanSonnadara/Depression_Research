{
 "cells": [
  {
   "cell_type": "markdown",
   "metadata": {},
   "source": [
    "# Cleaning the Raw Data"
   ]
  },
  {
   "cell_type": "markdown",
   "metadata": {},
   "source": [
    "Importing the libraries"
   ]
  },
  {
   "cell_type": "code",
   "execution_count": 49,
   "metadata": {},
   "outputs": [],
   "source": [
    "import pandas as pd\n",
    "import numpy as np"
   ]
  },
  {
   "cell_type": "markdown",
   "metadata": {},
   "source": [
    "Importing the Data"
   ]
  },
  {
   "cell_type": "code",
   "execution_count": 60,
   "metadata": {},
   "outputs": [],
   "source": [
    "df = pd.read_excel(\"Data/Raw Data.xlsx\")"
   ]
  },
  {
   "cell_type": "markdown",
   "metadata": {},
   "source": [
    "Renaming the variables"
   ]
  },
  {
   "cell_type": "code",
   "execution_count": 61,
   "metadata": {},
   "outputs": [],
   "source": [
    "import pandas as pd\n",
    "\n",
    "# Create a dictionary to map long names to short names\n",
    "rename_dict = {\n",
    "    'Timestamp': 'Timestamp',\n",
    "    'I voluntarily agree to take part in this study. I understand that my information will be complied together and analyzed as a group, and I give my consent to use my information for this study.': 'Consent',\n",
    "    'Sex': 'Sex',\n",
    "    'Ethnicity': 'Ethnicity',\n",
    "    'Religion': 'Religion',\n",
    "    'Please select one of the following': 'Job_Type',\n",
    "    'Please select one of the following.1': 'Parents_Employment',\n",
    "    'What is your total monthly family income in rupees?': 'Family_Income',\n",
    "    'Weight(kg)': 'Weight',\n",
    "    'Height(cm)': 'Height',\n",
    "    'How many hours do you sleep at night (on average)?': 'Sleep_Hours',\n",
    "    'Where do you stay when attending university?': 'Residence_Type',\n",
    "    'How satisfied are you with your accommodation?': 'Accommodation_Satisfaction',\n",
    "    'In general, how often do you socialize with your friends (Not work or education related)?': 'Socializing_Frequency',\n",
    "    'Please Select all that apply': 'Relationship Status',\n",
    "    'How many serious life-threatening events have you been exposed to?': 'Life_Threats',\n",
    "    'How satisfied are you with your life?': 'Life_Satisfaction',\n",
    "    'How satisfied are you with your physical appearance': 'Appearance_Satisfaction',\n",
    "    'How would you categorize your meals?': 'Meal_Type',\n",
    "    'How many days of the week do you work out/ get physical exercise?': 'Exercise_Days',\n",
    "    'How frequently do you take alcohol?': 'Alcohol_Frequency',\n",
    "    'How frequently do you smoke?': 'Smoke_Frequency',\n",
    "    'What is your sexual orientation?': 'Sexual_Orientation',\n",
    "    'Over the past two weeks, how often have you been bothered by any of the following problems? [Little interest or pleasure in doing things]': 'Interest_Loss_Frequency',\n",
    "    'Over the past two weeks, how often have you been bothered by any of the following problems? [Feeling down, depressed, or hopeless]': 'Depression_Frequency',\n",
    "    'Over the past two weeks, how often have you been bothered by any of the following problems? [Trouble falling or staying asleep or sleeping too much]': 'Sleep_Problems_Frequency',\n",
    "    'Over the past two weeks, how often have you been bothered by any of the following problems? [Feeling tired or having little energy]': 'Fatigue_Frequency',\n",
    "    'Over the past two weeks, how often have you been bothered by any of the following problems? [Poor appetite or overeating]': 'Appetite_Change_Frequency',\n",
    "    'Over the past two weeks, how often have you been bothered by any of the following problems? [Feeling bad about yourself or that you are a failure  or have let yourself or your family down?]': 'Self_Esteem_Issues_Frequency',\n",
    "    'Over the past two weeks, how often have you been bothered by any of the following problems? [Trouble concentrating on things, such as reading the newspaper or watching television?]': 'Concentration_Issues_Frequency',\n",
    "    'Over the past two weeks, how often have you been bothered by any of the following problems? [Moving or speaking so slowly that other people could have noticed. Or the opposite being so figety or restless that you have been moving around a lot more than usual]': 'Psychomotor_Changes_Frequency',\n",
    "    'Over the past two weeks, how often have you been bothered by any of the following problems? [Thoughts that you would be better off dead or of hurting yourself]': 'Suicidal_Thoughts_Frequency',\n",
    "    'Which attempt did you enter university from?': 'Uni_Entry_Attempt',\n",
    "    'Which year are you following in university?': 'Uni_Year',\n",
    "    'Please select which stream you belong to': 'Study_Stream',\n",
    "    'Are you satisfied with the academic program you are following in university? ': 'Academic_Program_Satisfaction',\n",
    "    'How do you travel to university?': 'Travel_Mode',\n",
    "    'How long does it take to travel to university?': 'Travel_Time',\n",
    "    'Do you take part in sports in university?': 'Sports_Participation',\n",
    "    'Are you involved with any clubs or societies in university?': 'Societies_Participation',\n",
    "    'Please select one of the following?': 'Lecture_Preferance',\n",
    "    'How stressful is your academic work?': 'Academic_Stress',\n",
    "    'Are you satisfied with your academic achievements (in university) so far?': 'Academic_Achievements_Satisfaction',\n",
    "    'Do you have any difficulty following academic activities because of the English language?': 'English_Difficulty',\n",
    "    'Have you been harassed by another student (been ragged etc.) or staff member at university?': 'Ragging_Experience',\n",
    "    'Do you feel as though you can get help from the university staff when needed?': 'Staff_Support_Perception',\n",
    "    'To what extent do you enjoy your university life?': 'Uni_Life_Enjoyment',\n",
    "    'Are you aware of the professional help that is available in the university to students who are depressed?': 'Awareness_Of_Help',\n",
    "    'How frequently do you see your family?': 'Family_Visit_Frequency',\n",
    "    'Do you have any siblings?': 'Siblings',\n",
    "    'How well do you interact with your family?': 'Family_Interaction',\n",
    "    'Do you have adequate financial support from your family?': 'Financial_Support',\n",
    "    'Do you have to financially support your family?': 'Financial_Support_Duty',\n",
    "    'Does your family have any major debts to pay?': 'Family_Debts',\n",
    "    'How many of your parents are alive?': 'Living_Parents',\n",
    "    'Has someone very close to you passed away in the last three years?': 'Recent_Death',\n",
    "    'Are any of your family members currently suffering from a serious illness?': 'Family_Illness',\n",
    "    'Have the power cuts significantly affected your online learning process?': 'Power_Cut_Impact',\n",
    "    'Do you feel as though you have been restricted to your home (most of the time) due to various situations such as covid, curfew and current situation in the country?': 'Home_Confinement',\n",
    "    'Have you found it difficult to gain access to necessary medical treatment (at any point in the last year) due to the lack of medicines in the country?': 'Medical_Access_Difficulty',\n",
    "    'To what extent has the economic problems in the country (Lack of fuel, Lack of LP Gas, Paper shortage, depreciating rupee value) affected your way of living?': 'Economic_Impact',\n",
    "    'Did anyone in your family (Including yourself) lose their job/business in the past three years?': 'Job_Loss_Family'\n",
    "}\n",
    "\n",
    "# Rename the columns using the dictionary\n",
    "df.rename(columns=rename_dict, inplace=True)"
   ]
  },
  {
   "cell_type": "markdown",
   "metadata": {},
   "source": [
    "Converting the columns with None"
   ]
  },
  {
   "cell_type": "code",
   "execution_count": 62,
   "metadata": {},
   "outputs": [],
   "source": [
    "# Three of the columns have 'None' as a string value, which pandas reads as a missing value, which should be corrected\n",
    "\n",
    "# List of columns to check for None values\n",
    "columns_to_check = ['Sexual_Orientation', 'Life_Threats', 'Religion']\n",
    "\n",
    "# Convert None to 'None' in specific columns only\n",
    "for column in columns_to_check:\n",
    "    df[column] = df[column].apply(lambda x: 'None' if x is np.NaN else x)\n",
    "\n",
    "# Define specific replacements for each column\n",
    "replacements = {\n",
    "    'Sexual_Orientation': 'Asexual',  # replace 'None' with 'Asexual'\n",
    "    'Life_Threats': 'Zero',                # replace 'None' with 0\n",
    "    'Religion': 'Atheist'             # replace 'None' with 'Atheist'\n",
    "}\n",
    "\n",
    "# Apply replacements to each specified column\n",
    "for column, replacement in replacements.items():\n",
    "    df[column] = df[column].replace('None', replacement)\n"
   ]
  },
  {
   "cell_type": "markdown",
   "metadata": {},
   "source": [
    "Discarding the time stamp"
   ]
  },
  {
   "cell_type": "code",
   "execution_count": 63,
   "metadata": {},
   "outputs": [],
   "source": [
    "# Remove the 'Timestamp' column from the DataFrame\n",
    "df = df.drop(columns='Timestamp')"
   ]
  },
  {
   "cell_type": "markdown",
   "metadata": {},
   "source": [
    "Finding the columns with missing values"
   ]
  },
  {
   "cell_type": "code",
   "execution_count": 64,
   "metadata": {},
   "outputs": [
    {
     "data": {
      "text/plain": [
       "Consent                     2\n",
       "Weight                     14\n",
       "Height                     26\n",
       "Appearance_Satisfaction     1\n",
       "Family_Illness              2\n",
       "dtype: int64"
      ]
     },
     "execution_count": 64,
     "metadata": {},
     "output_type": "execute_result"
    }
   ],
   "source": [
    "# Calculate the number of missing values in each column\n",
    "missing_values = df.isnull().sum()\n",
    "\n",
    "# Filter out columns where the number of missing values is greater than 0\n",
    "missing_values = missing_values[missing_values > 0]\n",
    "\n",
    "# Display the columns with their missing value counts\n",
    "missing_values\n"
   ]
  },
  {
   "cell_type": "markdown",
   "metadata": {},
   "source": [
    "Discarding the observations which haven't given consent"
   ]
  },
  {
   "cell_type": "code",
   "execution_count": 65,
   "metadata": {},
   "outputs": [],
   "source": [
    "# Discard rows where 'Consent' is missing or 'Consent' is 'No'\n",
    "df = df[df['Consent'].notna() & (df['Consent'] != 'No')]"
   ]
  },
  {
   "cell_type": "markdown",
   "metadata": {},
   "source": [
    "Cleaning the height column"
   ]
  },
  {
   "cell_type": "code",
   "execution_count": 66,
   "metadata": {},
   "outputs": [
    {
     "name": "stderr",
     "output_type": "stream",
     "text": [
      "C:\\Users\\Acer\\AppData\\Local\\Temp\\ipykernel_3512\\437299265.py:30: FutureWarning: A value is trying to be set on a copy of a DataFrame or Series through chained assignment using an inplace method.\n",
      "The behavior will change in pandas 3.0. This inplace method will never work because the intermediate object on which we are setting values always behaves as a copy.\n",
      "\n",
      "For example, when doing 'df[col].method(value, inplace=True)', try using 'df.method({col: value}, inplace=True)' or df[col] = df[col].method(value) instead, to perform the operation inplace on the original object.\n",
      "\n",
      "\n",
      "  df['Height'].fillna(mean_height, inplace=True)\n"
     ]
    }
   ],
   "source": [
    "# Convert feet and inches to centimeters, remove 'cm' and other non-numeric characters, handle outliers\n",
    "def convert_height(height):\n",
    "    if pd.isna(height):\n",
    "        return np.nan\n",
    "    if isinstance(height, str):\n",
    "        if 'cm' in height:\n",
    "            return float(height.replace('cm', '').strip())\n",
    "        if \"'\" in height or 'ft' in height or 'feet' in height:  # assuming feet and inches format\n",
    "            parts = height.replace(\"'\", \" \").replace(\"ft\", \" \").replace(\"inches\", \"\").replace('\"', '').strip().split()\n",
    "            feet = float(parts[0])\n",
    "            inches = float(parts[1]) if len(parts) > 1 else 0\n",
    "            return (feet * 30.48) + (inches * 2.54)\n",
    "        if 'm' in height:  # handle meter conversion if found, assuming it's an error\n",
    "            return float(height.replace('m', '').strip()) * 100\n",
    "    try:\n",
    "        height = float(height)\n",
    "        if height < 100:  # Likely in meters, convert to centimeters\n",
    "            return height * 100\n",
    "        return height\n",
    "    except ValueError:\n",
    "        return np.nan\n",
    "\n",
    "df['Height'] = df['Height'].apply(convert_height)\n",
    "\n",
    "# Identify and handle outliers (e.g., extremely low or high values)\n",
    "df['Height'] = df['Height'].apply(lambda x: np.nan if x < 100 or x > 250 else x)\n",
    "\n",
    "# Impute missing values with the mean of the 'Height' column\n",
    "mean_height = df['Height'].mean()\n",
    "df['Height'].fillna(mean_height, inplace=True)"
   ]
  },
  {
   "cell_type": "markdown",
   "metadata": {},
   "source": [
    "Cleaning the weight column"
   ]
  },
  {
   "cell_type": "code",
   "execution_count": 67,
   "metadata": {},
   "outputs": [
    {
     "name": "stderr",
     "output_type": "stream",
     "text": [
      "C:\\Users\\Acer\\AppData\\Local\\Temp\\ipykernel_3512\\2402528685.py:24: FutureWarning: A value is trying to be set on a copy of a DataFrame or Series through chained assignment using an inplace method.\n",
      "The behavior will change in pandas 3.0. This inplace method will never work because the intermediate object on which we are setting values always behaves as a copy.\n",
      "\n",
      "For example, when doing 'df[col].method(value, inplace=True)', try using 'df.method({col: value}, inplace=True)' or df[col] = df[col].method(value) instead, to perform the operation inplace on the original object.\n",
      "\n",
      "\n",
      "  df['Weight'].fillna(mean_weight, inplace=True)\n"
     ]
    }
   ],
   "source": [
    "# Function to clean and convert weight values to float\n",
    "def clean_weight(weight):\n",
    "    if pd.isna(weight):\n",
    "        return np.nan\n",
    "    if isinstance(weight, str):\n",
    "        if 'kg' in weight or 'Kg' in weight or 'kg' in weight:\n",
    "            weight = weight.replace('kg', '').replace('Kg', '').replace(' kg', '').strip()\n",
    "        try:\n",
    "            weight = float(weight)\n",
    "            return weight\n",
    "        except ValueError:\n",
    "            return np.nan\n",
    "    return weight\n",
    "\n",
    "# Apply the cleaning function\n",
    "df['Weight'] = df['Weight'].apply(clean_weight)\n",
    "\n",
    "# Identify outliers (weights that are unreasonably low or high)\n",
    "# Assumption: Typical adult weight ranges from 30 kg to 200 kg\n",
    "df['Weight'] = df['Weight'].apply(lambda x: np.nan if x < 30 or x > 200 else x)\n",
    "\n",
    "# Impute missing or outlier values with the mean of the 'Weight' column\n",
    "mean_weight = df['Weight'].mean()\n",
    "df['Weight'].fillna(mean_weight, inplace=True)"
   ]
  },
  {
   "cell_type": "markdown",
   "metadata": {},
   "source": [
    "Cleaning the sleeping hours variable"
   ]
  },
  {
   "cell_type": "code",
   "execution_count": 68,
   "metadata": {},
   "outputs": [
    {
     "name": "stderr",
     "output_type": "stream",
     "text": [
      "C:\\Users\\Acer\\AppData\\Local\\Temp\\ipykernel_3512\\4022210247.py:23: FutureWarning: A value is trying to be set on a copy of a DataFrame or Series through chained assignment using an inplace method.\n",
      "The behavior will change in pandas 3.0. This inplace method will never work because the intermediate object on which we are setting values always behaves as a copy.\n",
      "\n",
      "For example, when doing 'df[col].method(value, inplace=True)', try using 'df.method({col: value}, inplace=True)' or df[col] = df[col].method(value) instead, to perform the operation inplace on the original object.\n",
      "\n",
      "\n",
      "  df['Sleep_Hours'].fillna(mean_sleep_hours, inplace=True)\n"
     ]
    }
   ],
   "source": [
    "# Function to clean and convert sleep hours to float, handling ranges and textual descriptions\n",
    "def clean_sleep_hours(hours):\n",
    "    if pd.isna(hours):\n",
    "        return np.nan\n",
    "    if isinstance(hours, str):\n",
    "        hours = hours.lower().replace('hours', '').replace('hrs', '').replace('h', '').strip()\n",
    "        if 'to' in hours or '-' in hours: #Example - 5 to 7 hours\n",
    "            parts = hours.split(' to ') if 'to' in hours else hours.split('-')\n",
    "            parts = [float(part.strip()) for part in parts if part.strip().isdigit() or '.' in part]\n",
    "            return sum(parts) / len(parts) if parts else np.nan\n",
    "        if 'and' in hours:  # Handle \"and a half\" correctly by adding 0.5 to the integer part\n",
    "            if 'a half' in hours:\n",
    "                hours = hours.replace('and a half', '')\n",
    "                return float(hours) + 0.5\n",
    "        return float(hours) if hours.isdigit() or '.' in hours else np.nan\n",
    "    return float(hours)\n",
    "\n",
    "# Apply the cleaning function\n",
    "df['Sleep_Hours'] = df['Sleep_Hours'].apply(clean_sleep_hours)\n",
    "\n",
    "# Impute missing values with the mean of the 'Sleep_Hours' column\n",
    "mean_sleep_hours = df['Sleep_Hours'].mean()\n",
    "df['Sleep_Hours'].fillna(mean_sleep_hours, inplace=True)\n"
   ]
  },
  {
   "cell_type": "markdown",
   "metadata": {},
   "source": [
    "Handling the categorical columns with missing values"
   ]
  },
  {
   "cell_type": "code",
   "execution_count": 69,
   "metadata": {},
   "outputs": [
    {
     "name": "stderr",
     "output_type": "stream",
     "text": [
      "C:\\Users\\Acer\\AppData\\Local\\Temp\\ipykernel_3512\\2382683859.py:5: FutureWarning: A value is trying to be set on a copy of a DataFrame or Series through chained assignment using an inplace method.\n",
      "The behavior will change in pandas 3.0. This inplace method will never work because the intermediate object on which we are setting values always behaves as a copy.\n",
      "\n",
      "For example, when doing 'df[col].method(value, inplace=True)', try using 'df.method({col: value}, inplace=True)' or df[col] = df[col].method(value) instead, to perform the operation inplace on the original object.\n",
      "\n",
      "\n",
      "  df['Family_Illness'].fillna(family_illness_mode, inplace=True)\n",
      "C:\\Users\\Acer\\AppData\\Local\\Temp\\ipykernel_3512\\2382683859.py:6: FutureWarning: A value is trying to be set on a copy of a DataFrame or Series through chained assignment using an inplace method.\n",
      "The behavior will change in pandas 3.0. This inplace method will never work because the intermediate object on which we are setting values always behaves as a copy.\n",
      "\n",
      "For example, when doing 'df[col].method(value, inplace=True)', try using 'df.method({col: value}, inplace=True)' or df[col] = df[col].method(value) instead, to perform the operation inplace on the original object.\n",
      "\n",
      "\n",
      "  df['Appearance_Satisfaction'].fillna(appearance_satisfaction_mode, inplace=True)\n"
     ]
    }
   ],
   "source": [
    "# Impute 'Family_Illness' and 'Appearance_Satisfaction' with their respective modes\n",
    "family_illness_mode = df['Family_Illness'].mode()[0]\n",
    "appearance_satisfaction_mode = df['Appearance_Satisfaction'].mode()[0]\n",
    "\n",
    "df['Family_Illness'].fillna(family_illness_mode, inplace=True)\n",
    "df['Appearance_Satisfaction'].fillna(appearance_satisfaction_mode, inplace=True)"
   ]
  },
  {
   "cell_type": "markdown",
   "metadata": {},
   "source": [
    "Combining categories of columns with low value counts"
   ]
  },
  {
   "cell_type": "code",
   "execution_count": 70,
   "metadata": {},
   "outputs": [],
   "source": [
    "# Dictionary to map the original ethnicities to the new simplified categories\n",
    "ethnicity_mapping = {\n",
    "    'Sinhala': 'Sinhala',\n",
    "    'Tamil': 'Tamil',\n",
    "    'Sri Lankan Moor': 'Muslim',  # Rename 'Sri Lankan Moor' as 'Muslim'\n",
    "    'Muslim': 'Muslim'\n",
    "}\n",
    "\n",
    "# Apply the mapping to the 'Ethnicity' column\n",
    "df['Ethnicity'] = df['Ethnicity'].map(ethnicity_mapping).fillna('Other')  # Use fillna to handle any undefined categories"
   ]
  },
  {
   "cell_type": "code",
   "execution_count": 71,
   "metadata": {},
   "outputs": [],
   "source": [
    "# Dictionary to map the original religions to the new simplified categories\n",
    "religion_mapping = {\n",
    "    'Buddhism': 'Buddhism',\n",
    "    'Christianity / Catholicism': 'Christianity',  # Assuming you want to label this as 'Christianity'\n",
    "    'Islam': 'Islam',\n",
    "    'Hinduism': 'Hinduism'\n",
    "    # Other religions will be mapped to 'Other' by default using fillna\n",
    "}\n",
    "\n",
    "# Apply the mapping to the 'Religion' column\n",
    "df['Religion'] = df['Religion'].map(religion_mapping).fillna('Other')  # Use fillna to handle any undefined categories"
   ]
  },
  {
   "cell_type": "code",
   "execution_count": 72,
   "metadata": {},
   "outputs": [],
   "source": [
    "# Dictionary to map the original residence types to the new simplified categories\n",
    "residence_mapping = {\n",
    "    'Home': 'Home',\n",
    "    'Rented Place': 'Rented Place',\n",
    "    'Hostel': 'Hostel'\n",
    "    # Other residence types will be mapped to 'Other' by default using fillna\n",
    "}\n",
    "\n",
    "# Apply the mapping to the 'Residence_Type' column\n",
    "df['Residence_Type'] = df['Residence_Type'].map(residence_mapping).fillna('Other')  # Use fillna to handle any undefined categories\n"
   ]
  },
  {
   "cell_type": "code",
   "execution_count": 73,
   "metadata": {},
   "outputs": [],
   "source": [
    "# Define a function to simplify the sexual orientation categories\n",
    "def simplify_orientation(orientation):\n",
    "    if orientation == 'Straight':\n",
    "        return 'Straight'\n",
    "    else:\n",
    "        return 'Other'\n",
    "\n",
    "# Apply the function to the 'Sexual_Orientation' column\n",
    "df['Sexual_Orientation'] = df['Sexual_Orientation'].apply(simplify_orientation)\n"
   ]
  },
  {
   "cell_type": "markdown",
   "metadata": {},
   "source": [
    "Creating new variables to indicate the relationship status"
   ]
  },
  {
   "cell_type": "code",
   "execution_count": 74,
   "metadata": {},
   "outputs": [],
   "source": [
    "# Function to check if the person is currently single\n",
    "def is_single(status):\n",
    "    return \"Yes\" if \"Single\" in status else \"No\"\n",
    "\n",
    "# Function to check if the person is in a satisfied love affair\n",
    "def love_affair_satisfied(status):\n",
    "    return \"Yes\" if \"I am currently in a love affair which I am satisfied with\" in status else \"No\"\n",
    "\n",
    "# Function to check if the person has never been in a love affair\n",
    "def never_love(status):\n",
    "    return \"Yes\" if \"I have never been in a love affair\" in status else \"No\"\n",
    "\n",
    "# Function to check if the person is in an unsatisfied love affair\n",
    "def love_affair_not_satisfied(status):\n",
    "    return \"Yes\" if \"I am currently in a love affair which I am not satisfied with\" in status else \"No\"\n",
    "\n",
    "# Function to check if the person is separated\n",
    "def separated(status):\n",
    "    return \"Yes\" if \"I recently broke up\" in status else \"No\"\n",
    "\n",
    "# Apply these functions to create new columns\n",
    "df['Currently_Single'] = df['Relationship Status'].apply(is_single)\n",
    "df['Love_Affair_Satisfied'] = df['Relationship Status'].apply(love_affair_satisfied)\n",
    "df['Never_Love'] = df['Relationship Status'].apply(never_love)\n",
    "df['Love_Affair_Not_Satisfied'] = df['Relationship Status'].apply(love_affair_not_satisfied)\n",
    "df['Separated'] = df['Relationship Status'].apply(separated)\n",
    "\n",
    "# Remove the original 'Relationship Status' column\n",
    "df.drop('Relationship Status', axis=1, inplace=True)"
   ]
  },
  {
   "cell_type": "markdown",
   "metadata": {},
   "source": [
    "Creating the response variable"
   ]
  },
  {
   "cell_type": "code",
   "execution_count": 75,
   "metadata": {},
   "outputs": [
    {
     "name": "stderr",
     "output_type": "stream",
     "text": [
      "C:\\Users\\Acer\\AppData\\Local\\Temp\\ipykernel_3512\\3971541278.py:19: FutureWarning: Downcasting behavior in `replace` is deprecated and will be removed in a future version. To retain the old behavior, explicitly call `result.infer_objects(copy=False)`. To opt-in to the future behavior, set `pd.set_option('future.no_silent_downcasting', True)`\n",
      "  df[columns_to_recode] = df[columns_to_recode].replace(frequency_mapping)\n"
     ]
    }
   ],
   "source": [
    "# Mapping dictionary for recoding string labels to numeric values\n",
    "frequency_mapping = {\n",
    "    'Not at all': 0,\n",
    "    'Several Days': 1,\n",
    "    'More than half the days': 2,\n",
    "    'Nearly everyday': 3\n",
    "}\n",
    "\n",
    "# Columns to apply the recoding\n",
    "columns_to_recode = [\n",
    "    'Interest_Loss_Frequency', 'Depression_Frequency',\n",
    "    'Sleep_Problems_Frequency', 'Fatigue_Frequency',\n",
    "    'Appetite_Change_Frequency', 'Self_Esteem_Issues_Frequency',\n",
    "    'Concentration_Issues_Frequency', 'Psychomotor_Changes_Frequency',\n",
    "    'Suicidal_Thoughts_Frequency'\n",
    "]\n",
    "\n",
    "# Apply the mapping to the relevant columns\n",
    "df[columns_to_recode] = df[columns_to_recode].replace(frequency_mapping)\n",
    "\n",
    "# Sum the scores to create a new variable 'depression_score'\n",
    "df['depression_score'] = df[columns_to_recode].sum(axis=1)\n",
    "\n",
    "# Classify the 'depression_score' into 'MDD' or 'No MDD'\n",
    "df['depression_status'] = df['depression_score'].apply(lambda x: 'MDD' if x >= 10 else 'No MDD')\n"
   ]
  },
  {
   "cell_type": "markdown",
   "metadata": {},
   "source": [
    "Exporting the Data to use for Visualization"
   ]
  },
  {
   "cell_type": "code",
   "execution_count": 76,
   "metadata": {},
   "outputs": [],
   "source": [
    "df.to_excel(\"Data/Visualization_Data.xlsx\")"
   ]
  },
  {
   "cell_type": "markdown",
   "metadata": {},
   "source": [
    "Creating the data for the Machine Learning Component"
   ]
  },
  {
   "cell_type": "markdown",
   "metadata": {},
   "source": []
  }
 ],
 "metadata": {
  "kernelspec": {
   "display_name": "venv",
   "language": "python",
   "name": "python3"
  },
  "language_info": {
   "codemirror_mode": {
    "name": "ipython",
    "version": 3
   },
   "file_extension": ".py",
   "mimetype": "text/x-python",
   "name": "python",
   "nbconvert_exporter": "python",
   "pygments_lexer": "ipython3",
   "version": "3.9.10"
  }
 },
 "nbformat": 4,
 "nbformat_minor": 2
}
