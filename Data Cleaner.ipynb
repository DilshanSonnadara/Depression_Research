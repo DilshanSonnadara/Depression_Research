{
 "cells": [
  {
   "cell_type": "markdown",
   "metadata": {},
   "source": [
    "# Cleaning the Raw Data"
   ]
  },
  {
   "cell_type": "markdown",
   "metadata": {},
   "source": [
    "Importing the libraries"
   ]
  },
  {
   "cell_type": "code",
   "execution_count": 11,
   "metadata": {},
   "outputs": [],
   "source": [
    "import pandas as pd\n",
    "import numpy as np"
   ]
  },
  {
   "cell_type": "markdown",
   "metadata": {},
   "source": [
    "Importing the Data"
   ]
  },
  {
   "cell_type": "code",
   "execution_count": 12,
   "metadata": {},
   "outputs": [],
   "source": [
    "df = pd.read_excel(\"Data/Raw Data.xlsx\")"
   ]
  },
  {
   "cell_type": "markdown",
   "metadata": {},
   "source": [
    "Renaming the variables"
   ]
  },
  {
   "cell_type": "code",
   "execution_count": 13,
   "metadata": {},
   "outputs": [],
   "source": [
    "import pandas as pd\n",
    "\n",
    "# Create a dictionary to map long names to short names\n",
    "rename_dict = {\n",
    "    'Timestamp': 'Timestamp',\n",
    "    'I voluntarily agree to take part in this study. I understand that my information will be complied together and analyzed as a group, and I give my consent to use my information for this study.': 'Consent',\n",
    "    'Sex': 'Sex',\n",
    "    'Ethnicity': 'Ethnicity',\n",
    "    'Religion': 'Religion',\n",
    "    'Please select one of the following': 'Job_Type',\n",
    "    'Please select one of the following.1': 'Parents_Employment',\n",
    "    'What is your total monthly family income in rupees?': 'Family_Income',\n",
    "    'Weight(kg)': 'Weight',\n",
    "    'Height(cm)': 'Height',\n",
    "    'How many hours do you sleep at night (on average)?': 'Sleep_Hours',\n",
    "    'Where do you stay when attending university?': 'Residence_Type',\n",
    "    'How satisfied are you with your accommodation?': 'Accommodation_Satisfaction',\n",
    "    'In general, how often do you socialize with your friends (Not work or education related)?': 'Socializing_Frequency',\n",
    "    'Please Select all that apply': 'Relationship Status',\n",
    "    'How many serious life-threatening events have you been exposed to?': 'Life_Threats',\n",
    "    'How satisfied are you with your life?': 'Life_Satisfaction',\n",
    "    'How satisfied are you with your physical appearance': 'Appearance_Satisfaction',\n",
    "    'How would you categorize your meals?': 'Meal_Type',\n",
    "    'How many days of the week do you work out/ get physical exercise?': 'Exercise_Days',\n",
    "    'How frequently do you take alcohol?': 'Alcohol_Frequency',\n",
    "    'How frequently do you smoke?': 'Smoke_Frequency',\n",
    "    'What is your sexual orientation?': 'Sexual_Orientation',\n",
    "    'Over the past two weeks, how often have you been bothered by any of the following problems? [Little interest or pleasure in doing things]': 'Interest_Loss_Frequency',\n",
    "    'Over the past two weeks, how often have you been bothered by any of the following problems? [Feeling down, depressed, or hopeless]': 'Depression_Frequency',\n",
    "    'Over the past two weeks, how often have you been bothered by any of the following problems? [Trouble falling or staying asleep or sleeping too much]': 'Sleep_Problems_Frequency',\n",
    "    'Over the past two weeks, how often have you been bothered by any of the following problems? [Feeling tired or having little energy]': 'Fatigue_Frequency',\n",
    "    'Over the past two weeks, how often have you been bothered by any of the following problems? [Poor appetite or overeating]': 'Appetite_Change_Frequency',\n",
    "    'Over the past two weeks, how often have you been bothered by any of the following problems? [Feeling bad about yourself or that you are a failure  or have let yourself or your family down?]': 'Self_Esteem_Issues_Frequency',\n",
    "    'Over the past two weeks, how often have you been bothered by any of the following problems? [Trouble concentrating on things, such as reading the newspaper or watching television?]': 'Concentration_Issues_Frequency',\n",
    "    'Over the past two weeks, how often have you been bothered by any of the following problems? [Moving or speaking so slowly that other people could have noticed. Or the opposite being so figety or restless that you have been moving around a lot more than usual]': 'Psychomotor_Changes_Frequency',\n",
    "    'Over the past two weeks, how often have you been bothered by any of the following problems? [Thoughts that you would be better off dead or of hurting yourself]': 'Suicidal_Thoughts_Frequency',\n",
    "    'Which attempt did you enter university from?': 'Uni_Entry_Attempt',\n",
    "    'Which year are you following in university?': 'Uni_Year',\n",
    "    'Please select which stream you belong to': 'Study_Stream',\n",
    "    'Are you satisfied with the academic program you are following in university? ': 'Academic_Program_Satisfaction',\n",
    "    'How do you travel to university?': 'Travel_Mode',\n",
    "    'How long does it take to travel to university?': 'Travel_Time',\n",
    "    'Do you take part in sports in university?': 'Sports_Participation',\n",
    "    'Are you involved with any clubs or societies in university?': 'Societies_Participation',\n",
    "    'Please select one of the following?': 'Lecture_Preferance',\n",
    "    'How stressful is your academic work?': 'Academic_Stress',\n",
    "    'Are you satisfied with your academic achievements (in university) so far?': 'Academic_Achievements_Satisfaction',\n",
    "    'Do you have any difficulty following academic activities because of the English language?': 'English_Difficulty',\n",
    "    'Have you been harassed by another student (been ragged etc.) or staff member at university?': 'Ragging_Experience',\n",
    "    'Do you feel as though you can get help from the university staff when needed?': 'Staff_Support_Perception',\n",
    "    'To what extent do you enjoy your university life?': 'Uni_Life_Enjoyment',\n",
    "    'Are you aware of the professional help that is available in the university to students who are depressed?': 'Awareness_Of_Help',\n",
    "    'How frequently do you see your family?': 'Family_Visit_Frequency',\n",
    "    'Do you have any siblings?': 'Siblings',\n",
    "    'How well do you interact with your family?': 'Family_Interaction',\n",
    "    'Do you have adequate financial support from your family?': 'Financial_Support',\n",
    "    'Do you have to financially support your family?': 'Financial_Support_Duty',\n",
    "    'Does your family have any major debts to pay?': 'Family_Debts',\n",
    "    'How many of your parents are alive?': 'Living_Parents',\n",
    "    'Has someone very close to you passed away in the last three years?': 'Recent_Death',\n",
    "    'Are any of your family members currently suffering from a serious illness?': 'Family_Illness',\n",
    "    'Have the power cuts significantly affected your online learning process?': 'Power_Cut_Impact',\n",
    "    'Do you feel as though you have been restricted to your home (most of the time) due to various situations such as covid, curfew and current situation in the country?': 'Home_Confinement',\n",
    "    'Have you found it difficult to gain access to necessary medical treatment (at any point in the last year) due to the lack of medicines in the country?': 'Medical_Access_Difficulty',\n",
    "    'To what extent has the economic problems in the country (Lack of fuel, Lack of LP Gas, Paper shortage, depreciating rupee value) affected your way of living?': 'Economic_Impact',\n",
    "    'Did anyone in your family (Including yourself) lose their job/business in the past three years?': 'Job_Loss_Family'\n",
    "}\n",
    "\n",
    "# Rename the columns using the dictionary\n",
    "df.rename(columns=rename_dict, inplace=True)"
   ]
  },
  {
   "cell_type": "markdown",
   "metadata": {},
   "source": [
    "Converting the columns with None to 'None'"
   ]
  },
  {
   "cell_type": "code",
   "execution_count": 18,
   "metadata": {},
   "outputs": [],
   "source": [
    "# Three of the columns have 'None' as a string value, which pandas reads as a missing value, which should be corrected\n",
    "\n",
    "# Define specific replacements for each column\n",
    "replacements = {\n",
    "    'Sexual_Orientation': 'asexual',  # replace 'None' with 'asexual'\n",
    "    'Life_Threats': 0,                # replace 'None' with 0\n",
    "    'Religion': 'Atheist'             # replace 'None' with 'Atheist'\n",
    "}\n",
    "\n",
    "# List of columns to check for None values\n",
    "columns_to_check = ['Sexual_Orientation', 'Life_Threats', 'Religion']\n",
    "\n",
    "# Convert None to 'None' in specific columns only\n",
    "for column in columns_to_check:\n",
    "    df[column] = df[column].apply(lambda x: 'None' if x is None else x)\n",
    "\n",
    "# Apply replacements to each specified column\n",
    "for column, replacement in replacements.items():\n",
    "    df[column] = df[column].replace('None', replacement)\n"
   ]
  },
  {
   "cell_type": "markdown",
   "metadata": {},
   "source": [
    "Discarding the time stamp"
   ]
  },
  {
   "cell_type": "code",
   "execution_count": 15,
   "metadata": {},
   "outputs": [],
   "source": [
    "# Remove the 'Timestamp' column from the DataFrame\n",
    "df = df.drop(columns='Timestamp')"
   ]
  },
  {
   "cell_type": "markdown",
   "metadata": {},
   "source": [
    "Finding the columns with missing values"
   ]
  },
  {
   "cell_type": "code",
   "execution_count": 20,
   "metadata": {},
   "outputs": [
    {
     "data": {
      "text/plain": [
       "Consent                      2\n",
       "Religion                     1\n",
       "Weight                      14\n",
       "Height                      26\n",
       "Life_Threats               232\n",
       "Appearance_Satisfaction      1\n",
       "Sexual_Orientation           3\n",
       "Family_Illness               2\n",
       "dtype: int64"
      ]
     },
     "execution_count": 20,
     "metadata": {},
     "output_type": "execute_result"
    }
   ],
   "source": [
    "# Calculate the number of missing values in each column\n",
    "missing_values = df.isnull().sum()\n",
    "\n",
    "# Filter out columns where the number of missing values is greater than 0\n",
    "missing_values = missing_values[missing_values > 0]\n",
    "\n",
    "# Display the columns with their missing value counts\n",
    "missing_values\n"
   ]
  },
  {
   "cell_type": "markdown",
   "metadata": {},
   "source": [
    "Discarding the observations which haven't given consent"
   ]
  },
  {
   "cell_type": "code",
   "execution_count": 58,
   "metadata": {},
   "outputs": [],
   "source": [
    "# Discard rows where 'Consent' is missing or 'Consent' is 'No'\n",
    "df = df[df['Consent'].notna() & (df['Consent'] != 'No')]"
   ]
  },
  {
   "cell_type": "markdown",
   "metadata": {},
   "source": [
    "Cleaning the height column"
   ]
  },
  {
   "cell_type": "code",
   "execution_count": 35,
   "metadata": {},
   "outputs": [
    {
     "name": "stderr",
     "output_type": "stream",
     "text": [
      "C:\\Users\\Acer\\AppData\\Local\\Temp\\ipykernel_1040\\437299265.py:30: FutureWarning: A value is trying to be set on a copy of a DataFrame or Series through chained assignment using an inplace method.\n",
      "The behavior will change in pandas 3.0. This inplace method will never work because the intermediate object on which we are setting values always behaves as a copy.\n",
      "\n",
      "For example, when doing 'df[col].method(value, inplace=True)', try using 'df.method({col: value}, inplace=True)' or df[col] = df[col].method(value) instead, to perform the operation inplace on the original object.\n",
      "\n",
      "\n",
      "  df['Height'].fillna(mean_height, inplace=True)\n"
     ]
    }
   ],
   "source": [
    "# Convert feet and inches to centimeters, remove 'cm' and other non-numeric characters, handle outliers\n",
    "def convert_height(height):\n",
    "    if pd.isna(height):\n",
    "        return np.nan\n",
    "    if isinstance(height, str):\n",
    "        if 'cm' in height:\n",
    "            return float(height.replace('cm', '').strip())\n",
    "        if \"'\" in height or 'ft' in height or 'feet' in height:  # assuming feet and inches format\n",
    "            parts = height.replace(\"'\", \" \").replace(\"ft\", \" \").replace(\"inches\", \"\").replace('\"', '').strip().split()\n",
    "            feet = float(parts[0])\n",
    "            inches = float(parts[1]) if len(parts) > 1 else 0\n",
    "            return (feet * 30.48) + (inches * 2.54)\n",
    "        if 'm' in height:  # handle meter conversion if found, assuming it's an error\n",
    "            return float(height.replace('m', '').strip()) * 100\n",
    "    try:\n",
    "        height = float(height)\n",
    "        if height < 100:  # Likely in meters, convert to centimeters\n",
    "            return height * 100\n",
    "        return height\n",
    "    except ValueError:\n",
    "        return np.nan\n",
    "\n",
    "df['Height'] = df['Height'].apply(convert_height)\n",
    "\n",
    "# Identify and handle outliers (e.g., extremely low or high values)\n",
    "df['Height'] = df['Height'].apply(lambda x: np.nan if x < 100 or x > 250 else x)\n",
    "\n",
    "# Impute missing values with the mean of the 'Height' column\n",
    "mean_height = df['Height'].mean()\n",
    "df['Height'].fillna(mean_height, inplace=True)"
   ]
  },
  {
   "cell_type": "markdown",
   "metadata": {},
   "source": [
    "Cleaning the weight column"
   ]
  },
  {
   "cell_type": "code",
   "execution_count": 38,
   "metadata": {},
   "outputs": [
    {
     "name": "stderr",
     "output_type": "stream",
     "text": [
      "C:\\Users\\Acer\\AppData\\Local\\Temp\\ipykernel_1040\\2402528685.py:24: FutureWarning: A value is trying to be set on a copy of a DataFrame or Series through chained assignment using an inplace method.\n",
      "The behavior will change in pandas 3.0. This inplace method will never work because the intermediate object on which we are setting values always behaves as a copy.\n",
      "\n",
      "For example, when doing 'df[col].method(value, inplace=True)', try using 'df.method({col: value}, inplace=True)' or df[col] = df[col].method(value) instead, to perform the operation inplace on the original object.\n",
      "\n",
      "\n",
      "  df['Weight'].fillna(mean_weight, inplace=True)\n"
     ]
    }
   ],
   "source": [
    "# Function to clean and convert weight values to float\n",
    "def clean_weight(weight):\n",
    "    if pd.isna(weight):\n",
    "        return np.nan\n",
    "    if isinstance(weight, str):\n",
    "        if 'kg' in weight or 'Kg' in weight or 'kg' in weight:\n",
    "            weight = weight.replace('kg', '').replace('Kg', '').replace(' kg', '').strip()\n",
    "        try:\n",
    "            weight = float(weight)\n",
    "            return weight\n",
    "        except ValueError:\n",
    "            return np.nan\n",
    "    return weight\n",
    "\n",
    "# Apply the cleaning function\n",
    "df['Weight'] = df['Weight'].apply(clean_weight)\n",
    "\n",
    "# Identify outliers (weights that are unreasonably low or high)\n",
    "# Assumption: Typical adult weight ranges from 30 kg to 200 kg\n",
    "df['Weight'] = df['Weight'].apply(lambda x: np.nan if x < 30 or x > 200 else x)\n",
    "\n",
    "# Impute missing or outlier values with the mean of the 'Weight' column\n",
    "mean_weight = df['Weight'].mean()\n",
    "df['Weight'].fillna(mean_weight, inplace=True)"
   ]
  },
  {
   "cell_type": "markdown",
   "metadata": {},
   "source": [
    "Cleaning the sleeping hours variable"
   ]
  },
  {
   "cell_type": "code",
   "execution_count": 45,
   "metadata": {},
   "outputs": [
    {
     "name": "stderr",
     "output_type": "stream",
     "text": [
      "C:\\Users\\Acer\\AppData\\Local\\Temp\\ipykernel_1040\\4022210247.py:23: FutureWarning: A value is trying to be set on a copy of a DataFrame or Series through chained assignment using an inplace method.\n",
      "The behavior will change in pandas 3.0. This inplace method will never work because the intermediate object on which we are setting values always behaves as a copy.\n",
      "\n",
      "For example, when doing 'df[col].method(value, inplace=True)', try using 'df.method({col: value}, inplace=True)' or df[col] = df[col].method(value) instead, to perform the operation inplace on the original object.\n",
      "\n",
      "\n",
      "  df['Sleep_Hours'].fillna(mean_sleep_hours, inplace=True)\n"
     ]
    }
   ],
   "source": [
    "# Function to clean and convert sleep hours to float, handling ranges and textual descriptions\n",
    "def clean_sleep_hours(hours):\n",
    "    if pd.isna(hours):\n",
    "        return np.nan\n",
    "    if isinstance(hours, str):\n",
    "        hours = hours.lower().replace('hours', '').replace('hrs', '').replace('h', '').strip()\n",
    "        if 'to' in hours or '-' in hours: #Example - 5 to 7 hours\n",
    "            parts = hours.split(' to ') if 'to' in hours else hours.split('-')\n",
    "            parts = [float(part.strip()) for part in parts if part.strip().isdigit() or '.' in part]\n",
    "            return sum(parts) / len(parts) if parts else np.nan\n",
    "        if 'and' in hours:  # Handle \"and a half\" correctly by adding 0.5 to the integer part\n",
    "            if 'a half' in hours:\n",
    "                hours = hours.replace('and a half', '')\n",
    "                return float(hours) + 0.5\n",
    "        return float(hours) if hours.isdigit() or '.' in hours else np.nan\n",
    "    return float(hours)\n",
    "\n",
    "# Apply the cleaning function\n",
    "df['Sleep_Hours'] = df['Sleep_Hours'].apply(clean_sleep_hours)\n",
    "\n",
    "# Impute missing values with the mean of the 'Sleep_Hours' column\n",
    "mean_sleep_hours = df['Sleep_Hours'].mean()\n",
    "df['Sleep_Hours'].fillna(mean_sleep_hours, inplace=True)\n"
   ]
  },
  {
   "cell_type": "markdown",
   "metadata": {},
   "source": [
    "Handling the columns with missing values"
   ]
  },
  {
   "cell_type": "code",
   "execution_count": 13,
   "metadata": {},
   "outputs": [
    {
     "name": "stderr",
     "output_type": "stream",
     "text": [
      "C:\\Users\\Acer\\AppData\\Local\\Temp\\ipykernel_1040\\2213429012.py:6: FutureWarning: A value is trying to be set on a copy of a DataFrame or Series through chained assignment using an inplace method.\n",
      "The behavior will change in pandas 3.0. This inplace method will never work because the intermediate object on which we are setting values always behaves as a copy.\n",
      "\n",
      "For example, when doing 'df[col].method(value, inplace=True)', try using 'df.method({col: value}, inplace=True)' or df[col] = df[col].method(value) instead, to perform the operation inplace on the original object.\n",
      "\n",
      "\n",
      "  df['Religion'].fillna(religion_mode, inplace=True)\n"
     ]
    },
    {
     "ename": "TypeError",
     "evalue": "can only concatenate str (not \"int\") to str",
     "output_type": "error",
     "traceback": [
      "\u001b[1;31m---------------------------------------------------------------------------\u001b[0m",
      "\u001b[1;31mTypeError\u001b[0m                                 Traceback (most recent call last)",
      "Cell \u001b[1;32mIn[13], line 9\u001b[0m\n\u001b[0;32m      6\u001b[0m df[\u001b[38;5;124m'\u001b[39m\u001b[38;5;124mReligion\u001b[39m\u001b[38;5;124m'\u001b[39m]\u001b[38;5;241m.\u001b[39mfillna(religion_mode, inplace\u001b[38;5;241m=\u001b[39m\u001b[38;5;28;01mTrue\u001b[39;00m)\n\u001b[0;32m      8\u001b[0m \u001b[38;5;66;03m# 3. Impute 'Height' and 'Weight' with the mean\u001b[39;00m\n\u001b[1;32m----> 9\u001b[0m height_mean \u001b[38;5;241m=\u001b[39m \u001b[43mdf\u001b[49m\u001b[43m[\u001b[49m\u001b[38;5;124;43m'\u001b[39;49m\u001b[38;5;124;43mHeight\u001b[39;49m\u001b[38;5;124;43m'\u001b[39;49m\u001b[43m]\u001b[49m\u001b[38;5;241;43m.\u001b[39;49m\u001b[43mmean\u001b[49m\u001b[43m(\u001b[49m\u001b[43m)\u001b[49m\n\u001b[0;32m     10\u001b[0m weight_mean \u001b[38;5;241m=\u001b[39m df[\u001b[38;5;124m'\u001b[39m\u001b[38;5;124mWeight\u001b[39m\u001b[38;5;124m'\u001b[39m]\u001b[38;5;241m.\u001b[39mmean()\n\u001b[0;32m     11\u001b[0m df[\u001b[38;5;124m'\u001b[39m\u001b[38;5;124mHeight\u001b[39m\u001b[38;5;124m'\u001b[39m]\u001b[38;5;241m.\u001b[39mfillna(height_mean, inplace\u001b[38;5;241m=\u001b[39m\u001b[38;5;28;01mTrue\u001b[39;00m)\n",
      "File \u001b[1;32mc:\\Users\\Acer\\Desktop\\Final Year Research\\Depression_Research\\venv\\lib\\site-packages\\pandas\\core\\series.py:6549\u001b[0m, in \u001b[0;36mSeries.mean\u001b[1;34m(self, axis, skipna, numeric_only, **kwargs)\u001b[0m\n\u001b[0;32m   6541\u001b[0m \u001b[38;5;129m@doc\u001b[39m(make_doc(\u001b[38;5;124m\"\u001b[39m\u001b[38;5;124mmean\u001b[39m\u001b[38;5;124m\"\u001b[39m, ndim\u001b[38;5;241m=\u001b[39m\u001b[38;5;241m1\u001b[39m))\n\u001b[0;32m   6542\u001b[0m \u001b[38;5;28;01mdef\u001b[39;00m \u001b[38;5;21mmean\u001b[39m(\n\u001b[0;32m   6543\u001b[0m     \u001b[38;5;28mself\u001b[39m,\n\u001b[1;32m   (...)\u001b[0m\n\u001b[0;32m   6547\u001b[0m     \u001b[38;5;241m*\u001b[39m\u001b[38;5;241m*\u001b[39mkwargs,\n\u001b[0;32m   6548\u001b[0m ):\n\u001b[1;32m-> 6549\u001b[0m     \u001b[38;5;28;01mreturn\u001b[39;00m NDFrame\u001b[38;5;241m.\u001b[39mmean(\u001b[38;5;28mself\u001b[39m, axis, skipna, numeric_only, \u001b[38;5;241m*\u001b[39m\u001b[38;5;241m*\u001b[39mkwargs)\n",
      "File \u001b[1;32mc:\\Users\\Acer\\Desktop\\Final Year Research\\Depression_Research\\venv\\lib\\site-packages\\pandas\\core\\generic.py:12420\u001b[0m, in \u001b[0;36mNDFrame.mean\u001b[1;34m(self, axis, skipna, numeric_only, **kwargs)\u001b[0m\n\u001b[0;32m  12413\u001b[0m \u001b[38;5;28;01mdef\u001b[39;00m \u001b[38;5;21mmean\u001b[39m(\n\u001b[0;32m  12414\u001b[0m     \u001b[38;5;28mself\u001b[39m,\n\u001b[0;32m  12415\u001b[0m     axis: Axis \u001b[38;5;241m|\u001b[39m \u001b[38;5;28;01mNone\u001b[39;00m \u001b[38;5;241m=\u001b[39m \u001b[38;5;241m0\u001b[39m,\n\u001b[1;32m   (...)\u001b[0m\n\u001b[0;32m  12418\u001b[0m     \u001b[38;5;241m*\u001b[39m\u001b[38;5;241m*\u001b[39mkwargs,\n\u001b[0;32m  12419\u001b[0m ) \u001b[38;5;241m-\u001b[39m\u001b[38;5;241m>\u001b[39m Series \u001b[38;5;241m|\u001b[39m \u001b[38;5;28mfloat\u001b[39m:\n\u001b[1;32m> 12420\u001b[0m     \u001b[38;5;28;01mreturn\u001b[39;00m \u001b[38;5;28mself\u001b[39m\u001b[38;5;241m.\u001b[39m_stat_function(\n\u001b[0;32m  12421\u001b[0m         \u001b[38;5;124m\"\u001b[39m\u001b[38;5;124mmean\u001b[39m\u001b[38;5;124m\"\u001b[39m, nanops\u001b[38;5;241m.\u001b[39mnanmean, axis, skipna, numeric_only, \u001b[38;5;241m*\u001b[39m\u001b[38;5;241m*\u001b[39mkwargs\n\u001b[0;32m  12422\u001b[0m     )\n",
      "File \u001b[1;32mc:\\Users\\Acer\\Desktop\\Final Year Research\\Depression_Research\\venv\\lib\\site-packages\\pandas\\core\\generic.py:12377\u001b[0m, in \u001b[0;36mNDFrame._stat_function\u001b[1;34m(self, name, func, axis, skipna, numeric_only, **kwargs)\u001b[0m\n\u001b[0;32m  12373\u001b[0m nv\u001b[38;5;241m.\u001b[39mvalidate_func(name, (), kwargs)\n\u001b[0;32m  12375\u001b[0m validate_bool_kwarg(skipna, \u001b[38;5;124m\"\u001b[39m\u001b[38;5;124mskipna\u001b[39m\u001b[38;5;124m\"\u001b[39m, none_allowed\u001b[38;5;241m=\u001b[39m\u001b[38;5;28;01mFalse\u001b[39;00m)\n\u001b[1;32m> 12377\u001b[0m \u001b[38;5;28;01mreturn\u001b[39;00m \u001b[38;5;28;43mself\u001b[39;49m\u001b[38;5;241;43m.\u001b[39;49m\u001b[43m_reduce\u001b[49m\u001b[43m(\u001b[49m\n\u001b[0;32m  12378\u001b[0m \u001b[43m    \u001b[49m\u001b[43mfunc\u001b[49m\u001b[43m,\u001b[49m\u001b[43m \u001b[49m\u001b[43mname\u001b[49m\u001b[38;5;241;43m=\u001b[39;49m\u001b[43mname\u001b[49m\u001b[43m,\u001b[49m\u001b[43m \u001b[49m\u001b[43maxis\u001b[49m\u001b[38;5;241;43m=\u001b[39;49m\u001b[43maxis\u001b[49m\u001b[43m,\u001b[49m\u001b[43m \u001b[49m\u001b[43mskipna\u001b[49m\u001b[38;5;241;43m=\u001b[39;49m\u001b[43mskipna\u001b[49m\u001b[43m,\u001b[49m\u001b[43m \u001b[49m\u001b[43mnumeric_only\u001b[49m\u001b[38;5;241;43m=\u001b[39;49m\u001b[43mnumeric_only\u001b[49m\n\u001b[0;32m  12379\u001b[0m \u001b[43m\u001b[49m\u001b[43m)\u001b[49m\n",
      "File \u001b[1;32mc:\\Users\\Acer\\Desktop\\Final Year Research\\Depression_Research\\venv\\lib\\site-packages\\pandas\\core\\series.py:6457\u001b[0m, in \u001b[0;36mSeries._reduce\u001b[1;34m(self, op, name, axis, skipna, numeric_only, filter_type, **kwds)\u001b[0m\n\u001b[0;32m   6452\u001b[0m     \u001b[38;5;66;03m# GH#47500 - change to TypeError to match other methods\u001b[39;00m\n\u001b[0;32m   6453\u001b[0m     \u001b[38;5;28;01mraise\u001b[39;00m \u001b[38;5;167;01mTypeError\u001b[39;00m(\n\u001b[0;32m   6454\u001b[0m         \u001b[38;5;124mf\u001b[39m\u001b[38;5;124m\"\u001b[39m\u001b[38;5;124mSeries.\u001b[39m\u001b[38;5;132;01m{\u001b[39;00mname\u001b[38;5;132;01m}\u001b[39;00m\u001b[38;5;124m does not allow \u001b[39m\u001b[38;5;132;01m{\u001b[39;00mkwd_name\u001b[38;5;132;01m}\u001b[39;00m\u001b[38;5;124m=\u001b[39m\u001b[38;5;132;01m{\u001b[39;00mnumeric_only\u001b[38;5;132;01m}\u001b[39;00m\u001b[38;5;124m \u001b[39m\u001b[38;5;124m\"\u001b[39m\n\u001b[0;32m   6455\u001b[0m         \u001b[38;5;124m\"\u001b[39m\u001b[38;5;124mwith non-numeric dtypes.\u001b[39m\u001b[38;5;124m\"\u001b[39m\n\u001b[0;32m   6456\u001b[0m     )\n\u001b[1;32m-> 6457\u001b[0m \u001b[38;5;28;01mreturn\u001b[39;00m op(delegate, skipna\u001b[38;5;241m=\u001b[39mskipna, \u001b[38;5;241m*\u001b[39m\u001b[38;5;241m*\u001b[39mkwds)\n",
      "File \u001b[1;32mc:\\Users\\Acer\\Desktop\\Final Year Research\\Depression_Research\\venv\\lib\\site-packages\\pandas\\core\\nanops.py:147\u001b[0m, in \u001b[0;36mbottleneck_switch.__call__.<locals>.f\u001b[1;34m(values, axis, skipna, **kwds)\u001b[0m\n\u001b[0;32m    145\u001b[0m         result \u001b[38;5;241m=\u001b[39m alt(values, axis\u001b[38;5;241m=\u001b[39maxis, skipna\u001b[38;5;241m=\u001b[39mskipna, \u001b[38;5;241m*\u001b[39m\u001b[38;5;241m*\u001b[39mkwds)\n\u001b[0;32m    146\u001b[0m \u001b[38;5;28;01melse\u001b[39;00m:\n\u001b[1;32m--> 147\u001b[0m     result \u001b[38;5;241m=\u001b[39m alt(values, axis\u001b[38;5;241m=\u001b[39maxis, skipna\u001b[38;5;241m=\u001b[39mskipna, \u001b[38;5;241m*\u001b[39m\u001b[38;5;241m*\u001b[39mkwds)\n\u001b[0;32m    149\u001b[0m \u001b[38;5;28;01mreturn\u001b[39;00m result\n",
      "File \u001b[1;32mc:\\Users\\Acer\\Desktop\\Final Year Research\\Depression_Research\\venv\\lib\\site-packages\\pandas\\core\\nanops.py:404\u001b[0m, in \u001b[0;36m_datetimelike_compat.<locals>.new_func\u001b[1;34m(values, axis, skipna, mask, **kwargs)\u001b[0m\n\u001b[0;32m    401\u001b[0m \u001b[38;5;28;01mif\u001b[39;00m datetimelike \u001b[38;5;129;01mand\u001b[39;00m mask \u001b[38;5;129;01mis\u001b[39;00m \u001b[38;5;28;01mNone\u001b[39;00m:\n\u001b[0;32m    402\u001b[0m     mask \u001b[38;5;241m=\u001b[39m isna(values)\n\u001b[1;32m--> 404\u001b[0m result \u001b[38;5;241m=\u001b[39m func(values, axis\u001b[38;5;241m=\u001b[39maxis, skipna\u001b[38;5;241m=\u001b[39mskipna, mask\u001b[38;5;241m=\u001b[39mmask, \u001b[38;5;241m*\u001b[39m\u001b[38;5;241m*\u001b[39mkwargs)\n\u001b[0;32m    406\u001b[0m \u001b[38;5;28;01mif\u001b[39;00m datetimelike:\n\u001b[0;32m    407\u001b[0m     result \u001b[38;5;241m=\u001b[39m _wrap_results(result, orig_values\u001b[38;5;241m.\u001b[39mdtype, fill_value\u001b[38;5;241m=\u001b[39miNaT)\n",
      "File \u001b[1;32mc:\\Users\\Acer\\Desktop\\Final Year Research\\Depression_Research\\venv\\lib\\site-packages\\pandas\\core\\nanops.py:719\u001b[0m, in \u001b[0;36mnanmean\u001b[1;34m(values, axis, skipna, mask)\u001b[0m\n\u001b[0;32m    716\u001b[0m     dtype_count \u001b[38;5;241m=\u001b[39m dtype\n\u001b[0;32m    718\u001b[0m count \u001b[38;5;241m=\u001b[39m _get_counts(values\u001b[38;5;241m.\u001b[39mshape, mask, axis, dtype\u001b[38;5;241m=\u001b[39mdtype_count)\n\u001b[1;32m--> 719\u001b[0m the_sum \u001b[38;5;241m=\u001b[39m \u001b[43mvalues\u001b[49m\u001b[38;5;241;43m.\u001b[39;49m\u001b[43msum\u001b[49m\u001b[43m(\u001b[49m\u001b[43maxis\u001b[49m\u001b[43m,\u001b[49m\u001b[43m \u001b[49m\u001b[43mdtype\u001b[49m\u001b[38;5;241;43m=\u001b[39;49m\u001b[43mdtype_sum\u001b[49m\u001b[43m)\u001b[49m\n\u001b[0;32m    720\u001b[0m the_sum \u001b[38;5;241m=\u001b[39m _ensure_numeric(the_sum)\n\u001b[0;32m    722\u001b[0m \u001b[38;5;28;01mif\u001b[39;00m axis \u001b[38;5;129;01mis\u001b[39;00m \u001b[38;5;129;01mnot\u001b[39;00m \u001b[38;5;28;01mNone\u001b[39;00m \u001b[38;5;129;01mand\u001b[39;00m \u001b[38;5;28mgetattr\u001b[39m(the_sum, \u001b[38;5;124m\"\u001b[39m\u001b[38;5;124mndim\u001b[39m\u001b[38;5;124m\"\u001b[39m, \u001b[38;5;28;01mFalse\u001b[39;00m):\n",
      "File \u001b[1;32mc:\\Users\\Acer\\Desktop\\Final Year Research\\Depression_Research\\venv\\lib\\site-packages\\numpy\\core\\_methods.py:49\u001b[0m, in \u001b[0;36m_sum\u001b[1;34m(a, axis, dtype, out, keepdims, initial, where)\u001b[0m\n\u001b[0;32m     47\u001b[0m \u001b[38;5;28;01mdef\u001b[39;00m \u001b[38;5;21m_sum\u001b[39m(a, axis\u001b[38;5;241m=\u001b[39m\u001b[38;5;28;01mNone\u001b[39;00m, dtype\u001b[38;5;241m=\u001b[39m\u001b[38;5;28;01mNone\u001b[39;00m, out\u001b[38;5;241m=\u001b[39m\u001b[38;5;28;01mNone\u001b[39;00m, keepdims\u001b[38;5;241m=\u001b[39m\u001b[38;5;28;01mFalse\u001b[39;00m,\n\u001b[0;32m     48\u001b[0m          initial\u001b[38;5;241m=\u001b[39m_NoValue, where\u001b[38;5;241m=\u001b[39m\u001b[38;5;28;01mTrue\u001b[39;00m):\n\u001b[1;32m---> 49\u001b[0m     \u001b[38;5;28;01mreturn\u001b[39;00m \u001b[43mumr_sum\u001b[49m\u001b[43m(\u001b[49m\u001b[43ma\u001b[49m\u001b[43m,\u001b[49m\u001b[43m \u001b[49m\u001b[43maxis\u001b[49m\u001b[43m,\u001b[49m\u001b[43m \u001b[49m\u001b[43mdtype\u001b[49m\u001b[43m,\u001b[49m\u001b[43m \u001b[49m\u001b[43mout\u001b[49m\u001b[43m,\u001b[49m\u001b[43m \u001b[49m\u001b[43mkeepdims\u001b[49m\u001b[43m,\u001b[49m\u001b[43m \u001b[49m\u001b[43minitial\u001b[49m\u001b[43m,\u001b[49m\u001b[43m \u001b[49m\u001b[43mwhere\u001b[49m\u001b[43m)\u001b[49m\n",
      "\u001b[1;31mTypeError\u001b[0m: can only concatenate str (not \"int\") to str"
     ]
    }
   ],
   "source": [
    "# 1. Discard rows where 'Consent' is missing or 'Consent' is 'No'\n",
    "df = df[df['Consent'].notna() & (df['Consent'] != 'No')]\n",
    "\n",
    "# 2. Impute 'Religion' with the mode\n",
    "religion_mode = df['Religion'].mode()[0]\n",
    "df['Religion'].fillna(religion_mode, inplace=True)\n",
    "\n",
    "# 3. Impute 'Height' and 'Weight' with the mean\n",
    "height_mean = df['Height'].mean()\n",
    "weight_mean = df['Weight'].mean()\n",
    "df['Height'].fillna(height_mean, inplace=True)\n",
    "df['Weight'].fillna(weight_mean, inplace=True)\n",
    "\n",
    "# 4. Discard the 'Life_Threats' column due to the large number of missing values\n",
    "df = df.drop(columns='Life_Threats')\n",
    "\n",
    "# 5. Impute 'Family_Illness', 'Sexual_Orientation', and 'Appearance_Satisfaction' with their respective modes\n",
    "family_illness_mode = df['Family_Illness'].mode()[0]\n",
    "sexual_orientation_mode = df['Sexual_Orientation'].mode()[0]\n",
    "appearance_satisfaction_mode = df['Appearance_Satisfaction'].mode()[0]\n",
    "\n",
    "df['Family_Illness'].fillna(family_illness_mode, inplace=True)\n",
    "df['Sexual_Orientation'].fillna(sexual_orientation_mode, inplace=True)\n",
    "df['Appearance_Satisfaction'].fillna(appearance_satisfaction_mode, inplace=True)"
   ]
  }
 ],
 "metadata": {
  "kernelspec": {
   "display_name": "venv",
   "language": "python",
   "name": "python3"
  },
  "language_info": {
   "codemirror_mode": {
    "name": "ipython",
    "version": 3
   },
   "file_extension": ".py",
   "mimetype": "text/x-python",
   "name": "python",
   "nbconvert_exporter": "python",
   "pygments_lexer": "ipython3",
   "version": "3.9.10"
  }
 },
 "nbformat": 4,
 "nbformat_minor": 2
}
