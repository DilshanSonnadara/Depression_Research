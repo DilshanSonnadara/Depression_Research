{
 "cells": [
  {
   "cell_type": "markdown",
   "metadata": {},
   "source": [
    "# Cleaning the Raw Data"
   ]
  },
  {
   "cell_type": "markdown",
   "metadata": {},
   "source": [
    "Importing the libraries"
   ]
  },
  {
   "cell_type": "code",
   "execution_count": 89,
   "metadata": {},
   "outputs": [],
   "source": [
    "import pandas as pd\n",
    "import numpy as np"
   ]
  },
  {
   "cell_type": "markdown",
   "metadata": {},
   "source": [
    "Importing the Data"
   ]
  },
  {
   "cell_type": "code",
   "execution_count": 90,
   "metadata": {},
   "outputs": [],
   "source": [
    "df = pd.read_excel(\"Data/Raw Data.xlsx\")"
   ]
  },
  {
   "cell_type": "markdown",
   "metadata": {},
   "source": [
    "Renaming the variables"
   ]
  },
  {
   "cell_type": "code",
   "execution_count": 91,
   "metadata": {},
   "outputs": [],
   "source": [
    "import pandas as pd\n",
    "\n",
    "# Create a dictionary to map long names to short names\n",
    "rename_dict = {\n",
    "    'Timestamp': 'Timestamp',\n",
    "    'I voluntarily agree to take part in this study. I understand that my information will be complied together and analyzed as a group, and I give my consent to use my information for this study.': 'Consent',\n",
    "    'Sex': 'Sex',\n",
    "    'Ethnicity': 'Ethnicity',\n",
    "    'Religion': 'Religion',\n",
    "    'Please select one of the following': 'Job_Type',\n",
    "    'Please select one of the following.1': 'Parents_Employment',\n",
    "    'What is your total monthly family income in rupees?': 'Family_Income',\n",
    "    'Weight(kg)': 'Weight',\n",
    "    'Height(cm)': 'Height',\n",
    "    'How many hours do you sleep at night (on average)?': 'Sleep_Hours',\n",
    "    'Where do you stay when attending university?': 'Residence_Type',\n",
    "    'How satisfied are you with your accommodation?': 'Accommodation_Satisfaction',\n",
    "    'In general, how often do you socialize with your friends (Not work or education related)?': 'Socializing_Frequency',\n",
    "    'Please Select all that apply': 'Relationship Status',\n",
    "    'How many serious life-threatening events have you been exposed to?': 'Life_Threats',\n",
    "    'How satisfied are you with your life?': 'Life_Satisfaction',\n",
    "    'How satisfied are you with your physical appearance': 'Appearance_Satisfaction',\n",
    "    'How would you categorize your meals?': 'Meal_Type',\n",
    "    'How many days of the week do you work out/ get physical exercise?': 'Exercise_Days',\n",
    "    'How frequently do you take alcohol?': 'Alcohol_Frequency',\n",
    "    'How frequently do you smoke?': 'Smoke_Frequency',\n",
    "    'What is your sexual orientation?': 'Sexual_Orientation',\n",
    "    'Over the past two weeks, how often have you been bothered by any of the following problems? [Little interest or pleasure in doing things]': 'Interest_Loss_Frequency',\n",
    "    'Over the past two weeks, how often have you been bothered by any of the following problems? [Feeling down, depressed, or hopeless]': 'Depression_Frequency',\n",
    "    'Over the past two weeks, how often have you been bothered by any of the following problems? [Trouble falling or staying asleep or sleeping too much]': 'Sleep_Problems_Frequency',\n",
    "    'Over the past two weeks, how often have you been bothered by any of the following problems? [Feeling tired or having little energy]': 'Fatigue_Frequency',\n",
    "    'Over the past two weeks, how often have you been bothered by any of the following problems? [Poor appetite or overeating]': 'Appetite_Change_Frequency',\n",
    "    'Over the past two weeks, how often have you been bothered by any of the following problems? [Feeling bad about yourself or that you are a failure  or have let yourself or your family down?]': 'Self_Esteem_Issues_Frequency',\n",
    "    'Over the past two weeks, how often have you been bothered by any of the following problems? [Trouble concentrating on things, such as reading the newspaper or watching television?]': 'Concentration_Issues_Frequency',\n",
    "    'Over the past two weeks, how often have you been bothered by any of the following problems? [Moving or speaking so slowly that other people could have noticed. Or the opposite being so figety or restless that you have been moving around a lot more than usual]': 'Psychomotor_Changes_Frequency',\n",
    "    'Over the past two weeks, how often have you been bothered by any of the following problems? [Thoughts that you would be better off dead or of hurting yourself]': 'Suicidal_Thoughts_Frequency',\n",
    "    'Which attempt did you enter university from?': 'Uni_Entry_Attempt',\n",
    "    'Which year are you following in university?': 'Uni_Year',\n",
    "    'Please select which stream you belong to': 'Study_Stream',\n",
    "    'Are you satisfied with the academic program you are following in university? ': 'Academic_Program_Satisfaction',\n",
    "    'How do you travel to university?': 'Travel_Mode',\n",
    "    'How long does it take to travel to university?': 'Travel_Time',\n",
    "    'Do you take part in sports in university?': 'Sports_Participation',\n",
    "    'Are you involved with any clubs or societies in university?': 'Societies_Participation',\n",
    "    'Please select one of the following?': 'Lecture_Preferance',\n",
    "    'How stressful is your academic work?': 'Academic_Stress',\n",
    "    'Are you satisfied with your academic achievements (in university) so far?': 'Academic_Achievements_Satisfaction',\n",
    "    'Do you have any difficulty following academic activities because of the English language?': 'English_Difficulty',\n",
    "    'Have you been harassed by another student (been ragged etc.) or staff member at university?': 'Ragging_Experience',\n",
    "    'Do you feel as though you can get help from the university staff when needed?': 'Staff_Support_Perception',\n",
    "    'To what extent do you enjoy your university life?': 'Uni_Life_Enjoyment',\n",
    "    'Are you aware of the professional help that is available in the university to students who are depressed?': 'Awareness_Of_Help',\n",
    "    'How frequently do you see your family?': 'Family_Visit_Frequency',\n",
    "    'Do you have any siblings?': 'Siblings',\n",
    "    'How well do you interact with your family?': 'Family_Interaction',\n",
    "    'Do you have adequate financial support from your family?': 'Financial_Support',\n",
    "    'Do you have to financially support your family?': 'Financial_Support_Duty',\n",
    "    'Does your family have any major debts to pay?': 'Family_Debts',\n",
    "    'How many of your parents are alive?': 'Living_Parents',\n",
    "    'Has someone very close to you passed away in the last three years?': 'Recent_Death',\n",
    "    'Are any of your family members currently suffering from a serious illness?': 'Family_Illness',\n",
    "    'Have the power cuts significantly affected your online learning process?': 'Power_Cut_Impact',\n",
    "    'Do you feel as though you have been restricted to your home (most of the time) due to various situations such as covid, curfew and current situation in the country?': 'Home_Confinement',\n",
    "    'Have you found it difficult to gain access to necessary medical treatment (at any point in the last year) due to the lack of medicines in the country?': 'Medical_Access_Difficulty',\n",
    "    'To what extent has the economic problems in the country (Lack of fuel, Lack of LP Gas, Paper shortage, depreciating rupee value) affected your way of living?': 'Economic_Impact',\n",
    "    'Did anyone in your family (Including yourself) lose their job/business in the past three years?': 'Job_Loss_Family'\n",
    "}\n",
    "\n",
    "# Rename the columns using the dictionary\n",
    "df.rename(columns=rename_dict, inplace=True)"
   ]
  },
  {
   "cell_type": "markdown",
   "metadata": {},
   "source": [
    "Converting the columns with None"
   ]
  },
  {
   "cell_type": "code",
   "execution_count": 92,
   "metadata": {},
   "outputs": [],
   "source": [
    "# Three of the columns have 'None' as a string value, which pandas reads as a missing value, which should be corrected\n",
    "\n",
    "# List of columns to check for None values\n",
    "columns_to_check = ['Sexual_Orientation', 'Life_Threats', 'Religion']\n",
    "\n",
    "# Convert None to 'None' in specific columns only\n",
    "for column in columns_to_check:\n",
    "    df[column] = df[column].apply(lambda x: 'None' if x is np.NaN else x)\n",
    "\n",
    "# Define specific replacements for each column\n",
    "replacements = {\n",
    "    'Sexual_Orientation': 'Asexual',  # replace 'None' with 'Asexual'\n",
    "    'Life_Threats': 'Zero',                # replace 'None' with 0\n",
    "    'Religion': 'Atheist'             # replace 'None' with 'Atheist'\n",
    "}\n",
    "\n",
    "# Apply replacements to each specified column\n",
    "for column, replacement in replacements.items():\n",
    "    df[column] = df[column].replace('None', replacement)\n"
   ]
  },
  {
   "cell_type": "markdown",
   "metadata": {},
   "source": [
    "Discarding the time stamp"
   ]
  },
  {
   "cell_type": "code",
   "execution_count": 93,
   "metadata": {},
   "outputs": [],
   "source": [
    "# Remove the 'Timestamp' column from the DataFrame\n",
    "df = df.drop(columns='Timestamp')"
   ]
  },
  {
   "cell_type": "markdown",
   "metadata": {},
   "source": [
    "Finding the columns with missing values"
   ]
  },
  {
   "cell_type": "code",
   "execution_count": 94,
   "metadata": {},
   "outputs": [
    {
     "data": {
      "text/plain": [
       "Consent                     2\n",
       "Weight                     14\n",
       "Height                     26\n",
       "Appearance_Satisfaction     1\n",
       "Family_Illness              2\n",
       "dtype: int64"
      ]
     },
     "execution_count": 94,
     "metadata": {},
     "output_type": "execute_result"
    }
   ],
   "source": [
    "# Calculate the number of missing values in each column\n",
    "missing_values = df.isnull().sum()\n",
    "\n",
    "# Filter out columns where the number of missing values is greater than 0\n",
    "missing_values = missing_values[missing_values > 0]\n",
    "\n",
    "# Display the columns with their missing value counts\n",
    "missing_values\n"
   ]
  },
  {
   "cell_type": "markdown",
   "metadata": {},
   "source": [
    "Discarding the observations which haven't given consent"
   ]
  },
  {
   "cell_type": "code",
   "execution_count": 95,
   "metadata": {},
   "outputs": [],
   "source": [
    "# Discard rows where 'Consent' is missing or 'Consent' is 'No'\n",
    "df = df[df['Consent'].notna() & (df['Consent'] != 'No')]"
   ]
  },
  {
   "cell_type": "markdown",
   "metadata": {},
   "source": [
    "Cleaning the height column"
   ]
  },
  {
   "cell_type": "code",
   "execution_count": 96,
   "metadata": {},
   "outputs": [
    {
     "name": "stderr",
     "output_type": "stream",
     "text": [
      "C:\\Users\\Acer\\AppData\\Local\\Temp\\ipykernel_3512\\437299265.py:30: FutureWarning: A value is trying to be set on a copy of a DataFrame or Series through chained assignment using an inplace method.\n",
      "The behavior will change in pandas 3.0. This inplace method will never work because the intermediate object on which we are setting values always behaves as a copy.\n",
      "\n",
      "For example, when doing 'df[col].method(value, inplace=True)', try using 'df.method({col: value}, inplace=True)' or df[col] = df[col].method(value) instead, to perform the operation inplace on the original object.\n",
      "\n",
      "\n",
      "  df['Height'].fillna(mean_height, inplace=True)\n"
     ]
    }
   ],
   "source": [
    "# Convert feet and inches to centimeters, remove 'cm' and other non-numeric characters, handle outliers\n",
    "def convert_height(height):\n",
    "    if pd.isna(height):\n",
    "        return np.nan\n",
    "    if isinstance(height, str):\n",
    "        if 'cm' in height:\n",
    "            return float(height.replace('cm', '').strip())\n",
    "        if \"'\" in height or 'ft' in height or 'feet' in height:  # assuming feet and inches format\n",
    "            parts = height.replace(\"'\", \" \").replace(\"ft\", \" \").replace(\"inches\", \"\").replace('\"', '').strip().split()\n",
    "            feet = float(parts[0])\n",
    "            inches = float(parts[1]) if len(parts) > 1 else 0\n",
    "            return (feet * 30.48) + (inches * 2.54)\n",
    "        if 'm' in height:  # handle meter conversion if found, assuming it's an error\n",
    "            return float(height.replace('m', '').strip()) * 100\n",
    "    try:\n",
    "        height = float(height)\n",
    "        if height < 100:  # Likely in meters, convert to centimeters\n",
    "            return height * 100\n",
    "        return height\n",
    "    except ValueError:\n",
    "        return np.nan\n",
    "\n",
    "df['Height'] = df['Height'].apply(convert_height)\n",
    "\n",
    "# Identify and handle outliers (e.g., extremely low or high values)\n",
    "df['Height'] = df['Height'].apply(lambda x: np.nan if x < 100 or x > 250 else x)\n",
    "\n",
    "# Impute missing values with the mean of the 'Height' column\n",
    "mean_height = df['Height'].mean()\n",
    "df['Height'].fillna(mean_height, inplace=True)"
   ]
  },
  {
   "cell_type": "markdown",
   "metadata": {},
   "source": [
    "Cleaning the weight column"
   ]
  },
  {
   "cell_type": "code",
   "execution_count": 97,
   "metadata": {},
   "outputs": [
    {
     "name": "stderr",
     "output_type": "stream",
     "text": [
      "C:\\Users\\Acer\\AppData\\Local\\Temp\\ipykernel_3512\\2402528685.py:24: FutureWarning: A value is trying to be set on a copy of a DataFrame or Series through chained assignment using an inplace method.\n",
      "The behavior will change in pandas 3.0. This inplace method will never work because the intermediate object on which we are setting values always behaves as a copy.\n",
      "\n",
      "For example, when doing 'df[col].method(value, inplace=True)', try using 'df.method({col: value}, inplace=True)' or df[col] = df[col].method(value) instead, to perform the operation inplace on the original object.\n",
      "\n",
      "\n",
      "  df['Weight'].fillna(mean_weight, inplace=True)\n"
     ]
    }
   ],
   "source": [
    "# Function to clean and convert weight values to float\n",
    "def clean_weight(weight):\n",
    "    if pd.isna(weight):\n",
    "        return np.nan\n",
    "    if isinstance(weight, str):\n",
    "        if 'kg' in weight or 'Kg' in weight or 'kg' in weight:\n",
    "            weight = weight.replace('kg', '').replace('Kg', '').replace(' kg', '').strip()\n",
    "        try:\n",
    "            weight = float(weight)\n",
    "            return weight\n",
    "        except ValueError:\n",
    "            return np.nan\n",
    "    return weight\n",
    "\n",
    "# Apply the cleaning function\n",
    "df['Weight'] = df['Weight'].apply(clean_weight)\n",
    "\n",
    "# Identify outliers (weights that are unreasonably low or high)\n",
    "# Assumption: Typical adult weight ranges from 30 kg to 200 kg\n",
    "df['Weight'] = df['Weight'].apply(lambda x: np.nan if x < 30 or x > 200 else x)\n",
    "\n",
    "# Impute missing or outlier values with the mean of the 'Weight' column\n",
    "mean_weight = df['Weight'].mean()\n",
    "df['Weight'].fillna(mean_weight, inplace=True)"
   ]
  },
  {
   "cell_type": "markdown",
   "metadata": {},
   "source": [
    "Cleaning the sleeping hours variable"
   ]
  },
  {
   "cell_type": "code",
   "execution_count": 98,
   "metadata": {},
   "outputs": [
    {
     "name": "stderr",
     "output_type": "stream",
     "text": [
      "C:\\Users\\Acer\\AppData\\Local\\Temp\\ipykernel_3512\\4022210247.py:23: FutureWarning: A value is trying to be set on a copy of a DataFrame or Series through chained assignment using an inplace method.\n",
      "The behavior will change in pandas 3.0. This inplace method will never work because the intermediate object on which we are setting values always behaves as a copy.\n",
      "\n",
      "For example, when doing 'df[col].method(value, inplace=True)', try using 'df.method({col: value}, inplace=True)' or df[col] = df[col].method(value) instead, to perform the operation inplace on the original object.\n",
      "\n",
      "\n",
      "  df['Sleep_Hours'].fillna(mean_sleep_hours, inplace=True)\n"
     ]
    }
   ],
   "source": [
    "# Function to clean and convert sleep hours to float, handling ranges and textual descriptions\n",
    "def clean_sleep_hours(hours):\n",
    "    if pd.isna(hours):\n",
    "        return np.nan\n",
    "    if isinstance(hours, str):\n",
    "        hours = hours.lower().replace('hours', '').replace('hrs', '').replace('h', '').strip()\n",
    "        if 'to' in hours or '-' in hours: #Example - 5 to 7 hours\n",
    "            parts = hours.split(' to ') if 'to' in hours else hours.split('-')\n",
    "            parts = [float(part.strip()) for part in parts if part.strip().isdigit() or '.' in part]\n",
    "            return sum(parts) / len(parts) if parts else np.nan\n",
    "        if 'and' in hours:  # Handle \"and a half\" correctly by adding 0.5 to the integer part\n",
    "            if 'a half' in hours:\n",
    "                hours = hours.replace('and a half', '')\n",
    "                return float(hours) + 0.5\n",
    "        return float(hours) if hours.isdigit() or '.' in hours else np.nan\n",
    "    return float(hours)\n",
    "\n",
    "# Apply the cleaning function\n",
    "df['Sleep_Hours'] = df['Sleep_Hours'].apply(clean_sleep_hours)\n",
    "\n",
    "# Impute missing values with the mean of the 'Sleep_Hours' column\n",
    "mean_sleep_hours = df['Sleep_Hours'].mean()\n",
    "df['Sleep_Hours'].fillna(mean_sleep_hours, inplace=True)\n"
   ]
  },
  {
   "cell_type": "markdown",
   "metadata": {},
   "source": [
    "Handling the categorical columns with missing values"
   ]
  },
  {
   "cell_type": "code",
   "execution_count": 99,
   "metadata": {},
   "outputs": [
    {
     "name": "stderr",
     "output_type": "stream",
     "text": [
      "C:\\Users\\Acer\\AppData\\Local\\Temp\\ipykernel_3512\\2382683859.py:5: FutureWarning: A value is trying to be set on a copy of a DataFrame or Series through chained assignment using an inplace method.\n",
      "The behavior will change in pandas 3.0. This inplace method will never work because the intermediate object on which we are setting values always behaves as a copy.\n",
      "\n",
      "For example, when doing 'df[col].method(value, inplace=True)', try using 'df.method({col: value}, inplace=True)' or df[col] = df[col].method(value) instead, to perform the operation inplace on the original object.\n",
      "\n",
      "\n",
      "  df['Family_Illness'].fillna(family_illness_mode, inplace=True)\n",
      "C:\\Users\\Acer\\AppData\\Local\\Temp\\ipykernel_3512\\2382683859.py:6: FutureWarning: A value is trying to be set on a copy of a DataFrame or Series through chained assignment using an inplace method.\n",
      "The behavior will change in pandas 3.0. This inplace method will never work because the intermediate object on which we are setting values always behaves as a copy.\n",
      "\n",
      "For example, when doing 'df[col].method(value, inplace=True)', try using 'df.method({col: value}, inplace=True)' or df[col] = df[col].method(value) instead, to perform the operation inplace on the original object.\n",
      "\n",
      "\n",
      "  df['Appearance_Satisfaction'].fillna(appearance_satisfaction_mode, inplace=True)\n"
     ]
    }
   ],
   "source": [
    "# Impute 'Family_Illness' and 'Appearance_Satisfaction' with their respective modes\n",
    "family_illness_mode = df['Family_Illness'].mode()[0]\n",
    "appearance_satisfaction_mode = df['Appearance_Satisfaction'].mode()[0]\n",
    "\n",
    "df['Family_Illness'].fillna(family_illness_mode, inplace=True)\n",
    "df['Appearance_Satisfaction'].fillna(appearance_satisfaction_mode, inplace=True)"
   ]
  },
  {
   "cell_type": "markdown",
   "metadata": {},
   "source": [
    "Combining categories of columns with low value counts"
   ]
  },
  {
   "cell_type": "code",
   "execution_count": 100,
   "metadata": {},
   "outputs": [],
   "source": [
    "# Dictionary to map the original ethnicities to the new simplified categories\n",
    "ethnicity_mapping = {\n",
    "    'Sinhala': 'Sinhala',\n",
    "    'Tamil': 'Tamil',\n",
    "    'Sri Lankan Moor': 'Muslim',  # Rename 'Sri Lankan Moor' as 'Muslim'\n",
    "    'Muslim': 'Muslim'\n",
    "}\n",
    "\n",
    "# Apply the mapping to the 'Ethnicity' column\n",
    "df['Ethnicity'] = df['Ethnicity'].map(ethnicity_mapping).fillna('Other')  # Use fillna to handle any undefined categories"
   ]
  },
  {
   "cell_type": "code",
   "execution_count": 101,
   "metadata": {},
   "outputs": [],
   "source": [
    "# Dictionary to map the original religions to the new simplified categories\n",
    "religion_mapping = {\n",
    "    'Buddhism': 'Buddhism',\n",
    "    'Christianity / Catholicism': 'Christianity',  # Assuming you want to label this as 'Christianity'\n",
    "    'Islam': 'Islam',\n",
    "    'Hinduism': 'Hinduism'\n",
    "    # Other religions will be mapped to 'Other' by default using fillna\n",
    "}\n",
    "\n",
    "# Apply the mapping to the 'Religion' column\n",
    "df['Religion'] = df['Religion'].map(religion_mapping).fillna('Other')  # Use fillna to handle any undefined categories"
   ]
  },
  {
   "cell_type": "code",
   "execution_count": 102,
   "metadata": {},
   "outputs": [],
   "source": [
    "# Dictionary to map the original residence types to the new simplified categories\n",
    "residence_mapping = {\n",
    "    'Home': 'Home',\n",
    "    'Rented Place': 'Rented Place',\n",
    "    'Hostel': 'Hostel'\n",
    "    # Other residence types will be mapped to 'Other' by default using fillna\n",
    "}\n",
    "\n",
    "# Apply the mapping to the 'Residence_Type' column\n",
    "df['Residence_Type'] = df['Residence_Type'].map(residence_mapping).fillna('Other')  # Use fillna to handle any undefined categories\n"
   ]
  },
  {
   "cell_type": "code",
   "execution_count": 103,
   "metadata": {},
   "outputs": [],
   "source": [
    "# Define a function to simplify the sexual orientation categories\n",
    "def simplify_orientation(orientation):\n",
    "    if orientation == 'Straight':\n",
    "        return 'Straight'\n",
    "    else:\n",
    "        return 'Other'\n",
    "\n",
    "# Apply the function to the 'Sexual_Orientation' column\n",
    "df['Sexual_Orientation'] = df['Sexual_Orientation'].apply(simplify_orientation)\n"
   ]
  },
  {
   "cell_type": "markdown",
   "metadata": {},
   "source": [
    "Creating new variables to indicate the relationship status"
   ]
  },
  {
   "cell_type": "code",
   "execution_count": 104,
   "metadata": {},
   "outputs": [],
   "source": [
    "# Function to check if the person is currently single\n",
    "def is_single(status):\n",
    "    return \"Yes\" if \"Single\" in status else \"No\"\n",
    "\n",
    "# Function to check if the person is in a satisfied love affair\n",
    "def love_affair_satisfied(status):\n",
    "    return \"Yes\" if \"I am currently in a love affair which I am satisfied with\" in status else \"No\"\n",
    "\n",
    "# Function to check if the person has never been in a love affair\n",
    "def never_love(status):\n",
    "    return \"Yes\" if \"I have never been in a love affair\" in status else \"No\"\n",
    "\n",
    "# Function to check if the person is in an unsatisfied love affair\n",
    "def love_affair_not_satisfied(status):\n",
    "    return \"Yes\" if \"I am currently in a love affair which I am not satisfied with\" in status else \"No\"\n",
    "\n",
    "# Function to check if the person is separated\n",
    "def separated(status):\n",
    "    return \"Yes\" if \"I recently broke up\" in status else \"No\"\n",
    "\n",
    "# Apply these functions to create new columns\n",
    "df['Currently_Single'] = df['Relationship Status'].apply(is_single)\n",
    "df['Love_Affair_Satisfied'] = df['Relationship Status'].apply(love_affair_satisfied)\n",
    "df['Never_Love'] = df['Relationship Status'].apply(never_love)\n",
    "df['Love_Affair_Not_Satisfied'] = df['Relationship Status'].apply(love_affair_not_satisfied)\n",
    "df['Separated'] = df['Relationship Status'].apply(separated)\n",
    "\n",
    "# Remove the original 'Relationship Status' column\n",
    "df.drop('Relationship Status', axis=1, inplace=True)"
   ]
  },
  {
   "cell_type": "markdown",
   "metadata": {},
   "source": [
    "Creating the response variable"
   ]
  },
  {
   "cell_type": "code",
   "execution_count": 105,
   "metadata": {},
   "outputs": [
    {
     "name": "stderr",
     "output_type": "stream",
     "text": [
      "C:\\Users\\Acer\\AppData\\Local\\Temp\\ipykernel_3512\\3971541278.py:19: FutureWarning: Downcasting behavior in `replace` is deprecated and will be removed in a future version. To retain the old behavior, explicitly call `result.infer_objects(copy=False)`. To opt-in to the future behavior, set `pd.set_option('future.no_silent_downcasting', True)`\n",
      "  df[columns_to_recode] = df[columns_to_recode].replace(frequency_mapping)\n"
     ]
    }
   ],
   "source": [
    "# Mapping dictionary for recoding string labels to numeric values\n",
    "frequency_mapping = {\n",
    "    'Not at all': 0,\n",
    "    'Several Days': 1,\n",
    "    'More than half the days': 2,\n",
    "    'Nearly everyday': 3\n",
    "}\n",
    "\n",
    "# Columns to apply the recoding\n",
    "columns_to_recode = [\n",
    "    'Interest_Loss_Frequency', 'Depression_Frequency',\n",
    "    'Sleep_Problems_Frequency', 'Fatigue_Frequency',\n",
    "    'Appetite_Change_Frequency', 'Self_Esteem_Issues_Frequency',\n",
    "    'Concentration_Issues_Frequency', 'Psychomotor_Changes_Frequency',\n",
    "    'Suicidal_Thoughts_Frequency'\n",
    "]\n",
    "\n",
    "# Apply the mapping to the relevant columns\n",
    "df[columns_to_recode] = df[columns_to_recode].replace(frequency_mapping)\n",
    "\n",
    "# Sum the scores to create a new variable 'depression_score'\n",
    "df['depression_score'] = df[columns_to_recode].sum(axis=1)\n",
    "\n",
    "# Classify the 'depression_score' into 'MDD' or 'No MDD'\n",
    "df['depression_status'] = df['depression_score'].apply(lambda x: 'MDD' if x >= 10 else 'No MDD')\n"
   ]
  },
  {
   "cell_type": "markdown",
   "metadata": {},
   "source": [
    "Creating the weights"
   ]
  },
  {
   "cell_type": "code",
   "execution_count": 106,
   "metadata": {},
   "outputs": [
    {
     "data": {
      "text/html": [
       "<div>\n",
       "<style scoped>\n",
       "    .dataframe tbody tr th:only-of-type {\n",
       "        vertical-align: middle;\n",
       "    }\n",
       "\n",
       "    .dataframe tbody tr th {\n",
       "        vertical-align: top;\n",
       "    }\n",
       "\n",
       "    .dataframe thead th {\n",
       "        text-align: right;\n",
       "    }\n",
       "</style>\n",
       "<table border=\"1\" class=\"dataframe\">\n",
       "  <thead>\n",
       "    <tr style=\"text-align: right;\">\n",
       "      <th></th>\n",
       "      <th>Uni_Year</th>\n",
       "      <th>Study_Stream</th>\n",
       "      <th>Count</th>\n",
       "    </tr>\n",
       "  </thead>\n",
       "  <tbody>\n",
       "    <tr>\n",
       "      <th>0</th>\n",
       "      <td>Year 1</td>\n",
       "      <td>Biochemistry &amp; Molecular Biology</td>\n",
       "      <td>14</td>\n",
       "    </tr>\n",
       "    <tr>\n",
       "      <th>1</th>\n",
       "      <td>Year 1</td>\n",
       "      <td>Biological Science</td>\n",
       "      <td>18</td>\n",
       "    </tr>\n",
       "    <tr>\n",
       "      <th>2</th>\n",
       "      <td>Year 1</td>\n",
       "      <td>Industrial Statistics and Mathematical Finance</td>\n",
       "      <td>10</td>\n",
       "    </tr>\n",
       "    <tr>\n",
       "      <th>3</th>\n",
       "      <td>Year 1</td>\n",
       "      <td>Physical Science</td>\n",
       "      <td>65</td>\n",
       "    </tr>\n",
       "    <tr>\n",
       "      <th>4</th>\n",
       "      <td>Year 2</td>\n",
       "      <td>Biochemistry &amp; Molecular Biology</td>\n",
       "      <td>3</td>\n",
       "    </tr>\n",
       "    <tr>\n",
       "      <th>5</th>\n",
       "      <td>Year 2</td>\n",
       "      <td>Biological Science</td>\n",
       "      <td>15</td>\n",
       "    </tr>\n",
       "    <tr>\n",
       "      <th>6</th>\n",
       "      <td>Year 2</td>\n",
       "      <td>Industrial Statistics and Mathematical Finance</td>\n",
       "      <td>11</td>\n",
       "    </tr>\n",
       "    <tr>\n",
       "      <th>7</th>\n",
       "      <td>Year 2</td>\n",
       "      <td>Physical Science</td>\n",
       "      <td>48</td>\n",
       "    </tr>\n",
       "    <tr>\n",
       "      <th>8</th>\n",
       "      <td>Year 3</td>\n",
       "      <td>Biochemistry &amp; Molecular Biology</td>\n",
       "      <td>7</td>\n",
       "    </tr>\n",
       "    <tr>\n",
       "      <th>9</th>\n",
       "      <td>Year 3</td>\n",
       "      <td>Biological Science</td>\n",
       "      <td>14</td>\n",
       "    </tr>\n",
       "    <tr>\n",
       "      <th>10</th>\n",
       "      <td>Year 3</td>\n",
       "      <td>Industrial Statistics and Mathematical Finance</td>\n",
       "      <td>17</td>\n",
       "    </tr>\n",
       "    <tr>\n",
       "      <th>11</th>\n",
       "      <td>Year 3</td>\n",
       "      <td>Physical Science</td>\n",
       "      <td>35</td>\n",
       "    </tr>\n",
       "    <tr>\n",
       "      <th>12</th>\n",
       "      <td>Year 4</td>\n",
       "      <td>Biochemistry &amp; Molecular Biology</td>\n",
       "      <td>6</td>\n",
       "    </tr>\n",
       "    <tr>\n",
       "      <th>13</th>\n",
       "      <td>Year 4</td>\n",
       "      <td>Biological Science</td>\n",
       "      <td>15</td>\n",
       "    </tr>\n",
       "    <tr>\n",
       "      <th>14</th>\n",
       "      <td>Year 4</td>\n",
       "      <td>Industrial Statistics and Mathematical Finance</td>\n",
       "      <td>16</td>\n",
       "    </tr>\n",
       "    <tr>\n",
       "      <th>15</th>\n",
       "      <td>Year 4</td>\n",
       "      <td>Physical Science</td>\n",
       "      <td>66</td>\n",
       "    </tr>\n",
       "  </tbody>\n",
       "</table>\n",
       "</div>"
      ],
      "text/plain": [
       "   Uni_Year                                    Study_Stream  Count\n",
       "0    Year 1                Biochemistry & Molecular Biology     14\n",
       "1    Year 1                              Biological Science     18\n",
       "2    Year 1  Industrial Statistics and Mathematical Finance     10\n",
       "3    Year 1                                Physical Science     65\n",
       "4    Year 2                Biochemistry & Molecular Biology      3\n",
       "5    Year 2                              Biological Science     15\n",
       "6    Year 2  Industrial Statistics and Mathematical Finance     11\n",
       "7    Year 2                                Physical Science     48\n",
       "8    Year 3                Biochemistry & Molecular Biology      7\n",
       "9    Year 3                              Biological Science     14\n",
       "10   Year 3  Industrial Statistics and Mathematical Finance     17\n",
       "11   Year 3                                Physical Science     35\n",
       "12   Year 4                Biochemistry & Molecular Biology      6\n",
       "13   Year 4                              Biological Science     15\n",
       "14   Year 4  Industrial Statistics and Mathematical Finance     16\n",
       "15   Year 4                                Physical Science     66"
      ]
     },
     "execution_count": 106,
     "metadata": {},
     "output_type": "execute_result"
    }
   ],
   "source": [
    "# Group by 'Uni_Year' and 'Study_Stream' and count the occurrences\n",
    "combination_counts = df.groupby(['Uni_Year', 'Study_Stream']).size()\n",
    "\n",
    "# Reset the index to make it more readable and give the count column a name\n",
    "combination_counts = combination_counts.reset_index(name='Count')\n",
    "\n",
    "# Display the result\n",
    "combination_counts"
   ]
  },
  {
   "cell_type": "code",
   "execution_count": 107,
   "metadata": {},
   "outputs": [
    {
     "data": {
      "text/html": [
       "<div>\n",
       "<style scoped>\n",
       "    .dataframe tbody tr th:only-of-type {\n",
       "        vertical-align: middle;\n",
       "    }\n",
       "\n",
       "    .dataframe tbody tr th {\n",
       "        vertical-align: top;\n",
       "    }\n",
       "\n",
       "    .dataframe thead th {\n",
       "        text-align: right;\n",
       "    }\n",
       "</style>\n",
       "<table border=\"1\" class=\"dataframe\">\n",
       "  <thead>\n",
       "    <tr style=\"text-align: right;\">\n",
       "      <th></th>\n",
       "      <th>Uni_Year</th>\n",
       "      <th>Study_Stream</th>\n",
       "      <th>Post_Stratification_Weight</th>\n",
       "    </tr>\n",
       "  </thead>\n",
       "  <tbody>\n",
       "    <tr>\n",
       "      <th>0</th>\n",
       "      <td>Year 1</td>\n",
       "      <td>Biochemistry &amp; Molecular Biology</td>\n",
       "      <td>0.856762</td>\n",
       "    </tr>\n",
       "    <tr>\n",
       "      <th>1</th>\n",
       "      <td>Year 1</td>\n",
       "      <td>Biological Science</td>\n",
       "      <td>1.466015</td>\n",
       "    </tr>\n",
       "    <tr>\n",
       "      <th>2</th>\n",
       "      <td>Year 1</td>\n",
       "      <td>Industrial Statistics and Mathematical Finance</td>\n",
       "      <td>1.951133</td>\n",
       "    </tr>\n",
       "    <tr>\n",
       "      <th>3</th>\n",
       "      <td>Year 1</td>\n",
       "      <td>Physical Science</td>\n",
       "      <td>0.782421</td>\n",
       "    </tr>\n",
       "    <tr>\n",
       "      <th>4</th>\n",
       "      <td>Year 2</td>\n",
       "      <td>Biochemistry &amp; Molecular Biology</td>\n",
       "      <td>2.079076</td>\n",
       "    </tr>\n",
       "    <tr>\n",
       "      <th>5</th>\n",
       "      <td>Year 2</td>\n",
       "      <td>Biological Science</td>\n",
       "      <td>1.641937</td>\n",
       "    </tr>\n",
       "    <tr>\n",
       "      <th>6</th>\n",
       "      <td>Year 2</td>\n",
       "      <td>Industrial Statistics and Mathematical Finance</td>\n",
       "      <td>1.671984</td>\n",
       "    </tr>\n",
       "    <tr>\n",
       "      <th>7</th>\n",
       "      <td>Year 2</td>\n",
       "      <td>Physical Science</td>\n",
       "      <td>1.079520</td>\n",
       "    </tr>\n",
       "    <tr>\n",
       "      <th>8</th>\n",
       "      <td>Year 3</td>\n",
       "      <td>Biochemistry &amp; Molecular Biology</td>\n",
       "      <td>1.416513</td>\n",
       "    </tr>\n",
       "    <tr>\n",
       "      <th>9</th>\n",
       "      <td>Year 3</td>\n",
       "      <td>Biological Science</td>\n",
       "      <td>1.496478</td>\n",
       "    </tr>\n",
       "    <tr>\n",
       "      <th>10</th>\n",
       "      <td>Year 3</td>\n",
       "      <td>Industrial Statistics and Mathematical Finance</td>\n",
       "      <td>0.874905</td>\n",
       "    </tr>\n",
       "    <tr>\n",
       "      <th>11</th>\n",
       "      <td>Year 3</td>\n",
       "      <td>Physical Science</td>\n",
       "      <td>1.215460</td>\n",
       "    </tr>\n",
       "    <tr>\n",
       "      <th>12</th>\n",
       "      <td>Year 4</td>\n",
       "      <td>Biochemistry &amp; Molecular Biology</td>\n",
       "      <td>1.039538</td>\n",
       "    </tr>\n",
       "    <tr>\n",
       "      <th>13</th>\n",
       "      <td>Year 4</td>\n",
       "      <td>Biological Science</td>\n",
       "      <td>1.151488</td>\n",
       "    </tr>\n",
       "    <tr>\n",
       "      <th>14</th>\n",
       "      <td>Year 4</td>\n",
       "      <td>Industrial Statistics and Mathematical Finance</td>\n",
       "      <td>0.489782</td>\n",
       "    </tr>\n",
       "    <tr>\n",
       "      <th>15</th>\n",
       "      <td>Year 4</td>\n",
       "      <td>Physical Science</td>\n",
       "      <td>0.462825</td>\n",
       "    </tr>\n",
       "  </tbody>\n",
       "</table>\n",
       "</div>"
      ],
      "text/plain": [
       "   Uni_Year                                    Study_Stream  \\\n",
       "0    Year 1                Biochemistry & Molecular Biology   \n",
       "1    Year 1                              Biological Science   \n",
       "2    Year 1  Industrial Statistics and Mathematical Finance   \n",
       "3    Year 1                                Physical Science   \n",
       "4    Year 2                Biochemistry & Molecular Biology   \n",
       "5    Year 2                              Biological Science   \n",
       "6    Year 2  Industrial Statistics and Mathematical Finance   \n",
       "7    Year 2                                Physical Science   \n",
       "8    Year 3                Biochemistry & Molecular Biology   \n",
       "9    Year 3                              Biological Science   \n",
       "10   Year 3  Industrial Statistics and Mathematical Finance   \n",
       "11   Year 3                                Physical Science   \n",
       "12   Year 4                Biochemistry & Molecular Biology   \n",
       "13   Year 4                              Biological Science   \n",
       "14   Year 4  Industrial Statistics and Mathematical Finance   \n",
       "15   Year 4                                Physical Science   \n",
       "\n",
       "    Post_Stratification_Weight  \n",
       "0                     0.856762  \n",
       "1                     1.466015  \n",
       "2                     1.951133  \n",
       "3                     0.782421  \n",
       "4                     2.079076  \n",
       "5                     1.641937  \n",
       "6                     1.671984  \n",
       "7                     1.079520  \n",
       "8                     1.416513  \n",
       "9                     1.496478  \n",
       "10                    0.874905  \n",
       "11                    1.215460  \n",
       "12                    1.039538  \n",
       "13                    1.151488  \n",
       "14                    0.489782  \n",
       "15                    0.462825  "
      ]
     },
     "execution_count": 107,
     "metadata": {},
     "output_type": "execute_result"
    }
   ],
   "source": [
    "# Sample frequencies - the data you obtained\n",
    "data = {\n",
    "    'Uni_Year': ['Year 1', 'Year 1', 'Year 1', 'Year 1', 'Year 2', 'Year 2', 'Year 2', 'Year 2', \n",
    "                 'Year 3', 'Year 3', 'Year 3', 'Year 3', 'Year 4', 'Year 4', 'Year 4', 'Year 4'],\n",
    "    'Study_Stream': ['Biochemistry & Molecular Biology', 'Biological Science', \n",
    "                     'Industrial Statistics and Mathematical Finance', 'Physical Science',\n",
    "                     'Biochemistry & Molecular Biology', 'Biological Science', \n",
    "                     'Industrial Statistics and Mathematical Finance', 'Physical Science',\n",
    "                     'Biochemistry & Molecular Biology', 'Biological Science', \n",
    "                     'Industrial Statistics and Mathematical Finance', 'Physical Science',\n",
    "                     'Biochemistry & Molecular Biology', 'Biological Science', \n",
    "                     'Industrial Statistics and Mathematical Finance', 'Physical Science'],\n",
    "    'Count': [14, 18, 10, 65, 3, 15, 11, 48, 7, 14, 17, 35, 6, 15, 16, 66]\n",
    "}\n",
    "sample_df = pd.DataFrame(data)\n",
    "\n",
    "# Population frequencies - given data\n",
    "population_data = {\n",
    "    'Uni_Year': ['Year 1', 'Year 2', 'Year 3', 'Year 4', 'Year 1', 'Year 2', 'Year 3', 'Year 4',\n",
    "                 'Year 1', 'Year 2', 'Year 3', 'Year 4', 'Year 1', 'Year 2', 'Year 3', 'Year 4'],\n",
    "    'Study_Stream': ['Physical Science', 'Physical Science', 'Physical Science', 'Physical Science',\n",
    "                     'Biological Science', 'Biological Science', 'Biological Science', 'Biological Science',\n",
    "                     'Industrial Statistics and Mathematical Finance', 'Industrial Statistics and Mathematical Finance', \n",
    "                     'Industrial Statistics and Mathematical Finance', 'Industrial Statistics and Mathematical Finance',\n",
    "                     'Biochemistry & Molecular Biology', 'Biochemistry & Molecular Biology',\n",
    "                     'Biochemistry & Molecular Biology', 'Biochemistry & Molecular Biology'],\n",
    "    'Population': [318, 324, 266, 191, 165, 154, 131, 108, 122, 115, 93, 49, 75, 39, 62, 39]\n",
    "}\n",
    "population_df = pd.DataFrame(population_data)\n",
    "\n",
    "# Calculate total counts for normalization\n",
    "total_sample = sample_df['Count'].sum()\n",
    "total_population = population_df['Population'].sum()\n",
    "\n",
    "# Calculate percentages\n",
    "sample_df['Sample_Percentage'] = (sample_df['Count'] / total_sample) * 100\n",
    "population_df['Population_Percentage'] = (population_df['Population'] / total_population) * 100\n",
    "\n",
    "# Merge sample and population dataframes\n",
    "merged_df = pd.merge(sample_df, population_df, on=['Uni_Year', 'Study_Stream'])\n",
    "\n",
    "# Calculate the post-stratification weights\n",
    "merged_df['Post_Stratification_Weight'] = merged_df['Population_Percentage'] / merged_df['Sample_Percentage']\n",
    "\n",
    "# List of columns to drop\n",
    "columns_to_drop = ['Count', 'Population', 'Sample_Percentage', 'Population_Percentage']\n",
    "\n",
    "# Drop the specified columns\n",
    "merged_df.drop(columns=columns_to_drop, inplace=True)\n",
    "\n",
    "# Display the updated DataFrame to verify the changes\n",
    "merged_df\n",
    "\n"
   ]
  },
  {
   "cell_type": "code",
   "execution_count": 108,
   "metadata": {},
   "outputs": [],
   "source": [
    "# Merge the weights back into the original DataFrame\n",
    "df = df.merge(merged_df, on=['Uni_Year', 'Study_Stream'], how='left')"
   ]
  },
  {
   "cell_type": "markdown",
   "metadata": {},
   "source": [
    "Creating the BMI Column"
   ]
  },
  {
   "cell_type": "code",
   "execution_count": 113,
   "metadata": {},
   "outputs": [],
   "source": [
    "#Calculate BMI\n",
    "df['BMI'] = df['Weight'] / ((df['Height'] / 100) ** 2)\n",
    "\n",
    "# Define BMI categories\n",
    "bins = [0, 18.5, 24.9, 29.9, float('inf')]  # Using float('inf') for the upper bound of the last bin\n",
    "labels = ['Underweight', 'Healthy Weight', 'Overweight', 'Obesity']\n",
    "\n",
    "# Categorize BMI using defined bins and labels\n",
    "df['Weight_Status'] = pd.cut(df['BMI'], bins=bins, labels=labels)\n"
   ]
  },
  {
   "cell_type": "markdown",
   "metadata": {},
   "source": [
    "Discarding the unnecessary columns"
   ]
  },
  {
   "cell_type": "code",
   "execution_count": 114,
   "metadata": {},
   "outputs": [],
   "source": [
    "# List of columns to drop \n",
    "columns_to_drop = [\n",
    "    'Consent',\n",
    "    'Weight', \n",
    "    'Height',\n",
    "    'Interest_Loss_Frequency', \n",
    "    'Depression_Frequency',\n",
    "    'Sleep_Problems_Frequency', \n",
    "    'Fatigue_Frequency',\n",
    "    'Appetite_Change_Frequency', \n",
    "    'Self_Esteem_Issues_Frequency',\n",
    "    'Concentration_Issues_Frequency', \n",
    "    'Psychomotor_Changes_Frequency',\n",
    "    'Suicidal_Thoughts_Frequency',\n",
    "    'depression_score',\n",
    "    'BMI'\n",
    "]\n",
    "\n",
    "# Drop the specified columns\n",
    "df.drop(columns=columns_to_drop, inplace=True)\n"
   ]
  },
  {
   "cell_type": "code",
   "execution_count": 119,
   "metadata": {},
   "outputs": [
    {
     "data": {
      "text/plain": [
       "Index(['Sex', 'Ethnicity', 'Religion', 'Job_Type', 'Parents_Employment',\n",
       "       'Family_Income', 'Sleep_Hours', 'Residence_Type',\n",
       "       'Accommodation_Satisfaction', 'Socializing_Frequency', 'Life_Threats',\n",
       "       'Life_Satisfaction', 'Appearance_Satisfaction', 'Meal_Type',\n",
       "       'Exercise_Days', 'Alcohol_Frequency', 'Smoke_Frequency',\n",
       "       'Sexual_Orientation', 'Uni_Entry_Attempt', 'Uni_Year', 'Study_Stream',\n",
       "       'Academic_Program_Satisfaction', 'Travel_Mode', 'Travel_Time',\n",
       "       'Sports_Participation', 'Societies_Participation', 'Lecture_Preferance',\n",
       "       'Academic_Stress', 'Academic_Achievements_Satisfaction',\n",
       "       'English_Difficulty', 'Ragging_Experience', 'Staff_Support_Perception',\n",
       "       'Uni_Life_Enjoyment', 'Awareness_Of_Help', 'Family_Visit_Frequency',\n",
       "       'Siblings', 'Family_Interaction', 'Financial_Support',\n",
       "       'Financial_Support_Duty', 'Family_Debts', 'Living_Parents',\n",
       "       'Recent_Death', 'Family_Illness', 'Power_Cut_Impact',\n",
       "       'Home_Confinement', 'Medical_Access_Difficulty', 'Economic_Impact',\n",
       "       'Job_Loss_Family', 'Currently_Single', 'Love_Affair_Satisfied',\n",
       "       'Never_Love', 'Love_Affair_Not_Satisfied', 'Separated',\n",
       "       'depression_status', 'Post_Stratification_Weight', 'Weight_Status'],\n",
       "      dtype='object')"
      ]
     },
     "execution_count": 119,
     "metadata": {},
     "output_type": "execute_result"
    }
   ],
   "source": [
    "df.columns"
   ]
  },
  {
   "cell_type": "markdown",
   "metadata": {},
   "source": [
    "Exporting the Data to use for Visualization"
   ]
  },
  {
   "cell_type": "code",
   "execution_count": 115,
   "metadata": {},
   "outputs": [],
   "source": [
    "df.to_excel(\"Data/Visualization_Data.xlsx\")"
   ]
  }
 ],
 "metadata": {
  "kernelspec": {
   "display_name": "venv",
   "language": "python",
   "name": "python3"
  },
  "language_info": {
   "codemirror_mode": {
    "name": "ipython",
    "version": 3
   },
   "file_extension": ".py",
   "mimetype": "text/x-python",
   "name": "python",
   "nbconvert_exporter": "python",
   "pygments_lexer": "ipython3",
   "version": "3.9.10"
  }
 },
 "nbformat": 4,
 "nbformat_minor": 2
}
