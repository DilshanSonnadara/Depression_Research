{
 "cells": [
  {
   "cell_type": "markdown",
   "metadata": {},
   "source": [
    "# Descriptive Analysis"
   ]
  },
  {
   "cell_type": "markdown",
   "metadata": {},
   "source": [
    "Import the necessary libraries"
   ]
  },
  {
   "cell_type": "code",
   "execution_count": 1,
   "metadata": {},
   "outputs": [],
   "source": [
    "import pandas as pd"
   ]
  },
  {
   "cell_type": "markdown",
   "metadata": {},
   "source": [
    "Reading the excel file"
   ]
  },
  {
   "cell_type": "code",
   "execution_count": 3,
   "metadata": {},
   "outputs": [],
   "source": [
    "df = pd.read_excel(\"Data/Visualization_Data.xlsx\")"
   ]
  },
  {
   "cell_type": "markdown",
   "metadata": {},
   "source": [
    "Percentage of students with MDD"
   ]
  },
  {
   "cell_type": "code",
   "execution_count": 4,
   "metadata": {},
   "outputs": [
    {
     "data": {
      "text/plain": [
       "Index(['Unnamed: 0', 'Sex', 'Ethnicity', 'Religion', 'Job_Type',\n",
       "       'Parents_Employment', 'Family_Income', 'Sleep_Hours', 'Residence_Type',\n",
       "       'Accommodation_Satisfaction', 'Socializing_Frequency', 'Life_Threats',\n",
       "       'Life_Satisfaction', 'Appearance_Satisfaction', 'Meal_Type',\n",
       "       'Exercise_Days', 'Alcohol_Frequency', 'Smoke_Frequency',\n",
       "       'Sexual_Orientation', 'Uni_Entry_Attempt', 'Uni_Year', 'Study_Stream',\n",
       "       'Academic_Program_Satisfaction', 'Travel_Mode', 'Travel_Time',\n",
       "       'Sports_Participation', 'Societies_Participation', 'Lecture_Preferance',\n",
       "       'Academic_Stress', 'Academic_Achievements_Satisfaction',\n",
       "       'English_Difficulty', 'Ragging_Experience', 'Staff_Support_Perception',\n",
       "       'Uni_Life_Enjoyment', 'Awareness_Of_Help', 'Family_Visit_Frequency',\n",
       "       'Siblings', 'Family_Interaction', 'Financial_Support',\n",
       "       'Financial_Support_Duty', 'Family_Debts', 'Living_Parents',\n",
       "       'Recent_Death', 'Family_Illness', 'Power_Cut_Impact',\n",
       "       'Home_Confinement', 'Medical_Access_Difficulty', 'Economic_Impact',\n",
       "       'Job_Loss_Family', 'Currently_Single', 'Love_Affair_Satisfied',\n",
       "       'Never_Love', 'Love_Affair_Not_Satisfied', 'Separated',\n",
       "       'depression_status', 'Post_Stratification_Weight', 'Weight_Status'],\n",
       "      dtype='object')"
      ]
     },
     "execution_count": 4,
     "metadata": {},
     "output_type": "execute_result"
    }
   ],
   "source": [
    "df.columns"
   ]
  },
  {
   "cell_type": "code",
   "execution_count": null,
   "metadata": {},
   "outputs": [],
   "source": []
  }
 ],
 "metadata": {
  "kernelspec": {
   "display_name": "venv",
   "language": "python",
   "name": "python3"
  },
  "language_info": {
   "codemirror_mode": {
    "name": "ipython",
    "version": 3
   },
   "file_extension": ".py",
   "mimetype": "text/x-python",
   "name": "python",
   "nbconvert_exporter": "python",
   "pygments_lexer": "ipython3",
   "version": "3.9.10"
  }
 },
 "nbformat": 4,
 "nbformat_minor": 2
}
