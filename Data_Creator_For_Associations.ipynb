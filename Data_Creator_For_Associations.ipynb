{
 "cells": [
  {
   "cell_type": "markdown",
   "metadata": {},
   "source": [
    "# Creating a Dataset to be used to measure associations"
   ]
  },
  {
   "cell_type": "markdown",
   "metadata": {},
   "source": [
    "Importing the libraries"
   ]
  },
  {
   "cell_type": "code",
   "execution_count": 1,
   "metadata": {},
   "outputs": [],
   "source": [
    "import pandas as pd"
   ]
  },
  {
   "cell_type": "markdown",
   "metadata": {},
   "source": [
    "Importing the Data"
   ]
  },
  {
   "cell_type": "code",
   "execution_count": 2,
   "metadata": {},
   "outputs": [],
   "source": [
    "df = pd.read_excel(\"Data/Visualization_Data.xlsx\")"
   ]
  },
  {
   "cell_type": "markdown",
   "metadata": {},
   "source": [
    "Encoding the Data"
   ]
  },
  {
   "cell_type": "code",
   "execution_count": 16,
   "metadata": {},
   "outputs": [],
   "source": [
    "df['Sex'] = df['Sex'].map({'Female': 0, 'Male': 1})\n",
    "df['depression_status'] = df['depression_status'].map({'No MDD': 0, 'MDD': 1})\n",
    "df['Alcohol_Frequency'] = df['Alcohol_Frequency'].map({'Never': 1, 'Rarely': 2, 'Occasionally': 3})\n",
    "df['Uni_Year'] = df['Uni_Year'].map({'Year 1': 1, 'Year 2': 2, 'Year 3': 3, 'Year 4': 4})\n",
    "df['Academic_Stress'] = df['Academic_Stress'].map({1: 1, 2: 1, 3: 2, 4: 3, 5: 3})\n",
    "df['Academic_Achievements_Satisfaction'] = df['Academic_Achievements_Satisfaction'].map(\n",
    "    {'No': 1, 'Neither satisfied nor dissatisfied': 2, 'No GPA as of yet': 2, 'Yes': 3}\n",
    ")\n",
    "df['Family_Income'] = df['Family_Income'].map(\n",
    "    {'Less than 30,000': 1, '30,000-100,000': 1, '100,00-250,000': 2, '250,000-500,000': 3, 'Greater than 500,000': 3}\n",
    ")\n",
    "df['Ragging_Experience'] = df['Ragging_Experience'].map({'No': 0, 'Yes': 1})\n",
    "df['Separated'] = df['Separated'].map({'No': 0, 'Yes': 1})\n",
    "df['Love_Affair_Satisfied'] = df['Love_Affair_Satisfied'].map({'No': 0, 'Yes': 1})\n",
    "df['Love_Affair_Not_Satisfied'] = df['Love_Affair_Not_Satisfied'].map({'No': 0, 'Yes': 1})"
   ]
  },
  {
   "cell_type": "markdown",
   "metadata": {},
   "source": [
    "Selecting the variables to measure associations"
   ]
  },
  {
   "cell_type": "code",
   "execution_count": 17,
   "metadata": {},
   "outputs": [],
   "source": [
    "new_df = df[['Sex', 'depression_status', 'Alcohol_Frequency', 'Uni_Year', 'Academic_Stress',\n",
    "             'Academic_Achievements_Satisfaction', 'Family_Income', 'Ragging_Experience',\n",
    "             'Separated', 'Love_Affair_Satisfied', 'Love_Affair_Not_Satisfied',\n",
    "             'Post_Stratification_Weight', 'Appearance_Satisfaction']]"
   ]
  },
  {
   "cell_type": "markdown",
   "metadata": {},
   "source": [
    "Saving the File"
   ]
  },
  {
   "cell_type": "code",
   "execution_count": 18,
   "metadata": {},
   "outputs": [],
   "source": [
    "new_df.to_excel('Data/Associations.xlsx')"
   ]
  }
 ],
 "metadata": {
  "kernelspec": {
   "display_name": "venv",
   "language": "python",
   "name": "python3"
  },
  "language_info": {
   "codemirror_mode": {
    "name": "ipython",
    "version": 3
   },
   "file_extension": ".py",
   "mimetype": "text/x-python",
   "name": "python",
   "nbconvert_exporter": "python",
   "pygments_lexer": "ipython3",
   "version": "3.9.10"
  }
 },
 "nbformat": 4,
 "nbformat_minor": 2
}
